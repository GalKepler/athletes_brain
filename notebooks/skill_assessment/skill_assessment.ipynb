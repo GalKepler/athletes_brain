{
 "cells": [
  {
   "cell_type": "code",
   "execution_count": 1,
   "id": "aead1a0e",
   "metadata": {},
   "outputs": [
    {
     "name": "stderr",
     "output_type": "stream",
     "text": [
      "\u001b[32m2025-08-10 16:46:25.279\u001b[0m | \u001b[1mINFO    \u001b[0m | \u001b[36mathletes_brain.config\u001b[0m:\u001b[36m<module>\u001b[0m:\u001b[36m11\u001b[0m - \u001b[1mPROJ_ROOT path is: /home/galkepler/Projects/athletes_brain\u001b[0m\n"
     ]
    }
   ],
   "source": [
    "import pandas as pd\n",
    "from pathlib import Path\n",
    "from athletes_brain.config import EXTERNAL_DATA_DIR\n",
    "\n",
    "sessions = pd.read_csv(\"~/Projects/plasticityhub/sessions.csv\")\n",
    "sessions = sessions.sort_values([\"subject_code\", \"session_id\"])\n",
    "sessions[\"session_id\"] = sessions[\"session_id\"].astype(str).str.zfill(12)\n",
    "sessions[\"subject_code\"] = sessions[\"subject_code\"].apply(\n",
    "    lambda x: x.replace(\"-\", \"\")\n",
    "    .replace(\"_\", \"\")\n",
    "    .replace(\" \", \"\")\n",
    "    .replace(\"\\t\", \"\")\n",
    "    .replace(\"\\n\", \"\")\n",
    "    .replace(\"MֹC\", \"MC\")\n",
    ")\n",
    "sessions = sessions[sessions[\"subject_code\"] != \"0000\"]\n",
    "# sessions[\"exercise_frequency\"] = sessions[\"exercise_frequency\"].replace(\n",
    "#     {\"\": pd.NA, \"1-2\": 1.5, \"3-4\": 3.5, \"5+\": 5}\n",
    "#     ).astype(float)\n",
    "# drop duplicated indices\n",
    "# d = d[~d.index.duplicated(keep=\"first\")]\n",
    "sessions[\"timestamp\"] = pd.to_datetime(sessions[\"session_id\"], format=\"%Y%m%d%H%M%S\")"
   ]
  },
  {
   "cell_type": "code",
   "execution_count": 2,
   "id": "71808098",
   "metadata": {},
   "outputs": [],
   "source": [
    "assessment_df = pd.read_csv(EXTERNAL_DATA_DIR / \"skill_assessment_new.csv\")\n",
    "assessment_df = assessment_df.rename(\n",
    "    columns={\n",
    "        \"Participant\": \"subject_code\",\n",
    "        \"Session Score\": \"score\",\n",
    "        \"Session Timestamp\": \"timestamp\",\n",
    "        \"Climbing Gym\": \"gym\",\n",
    "    }\n",
    ")\n",
    "assessment_df[\"subject_code\"] = (\n",
    "    assessment_df[\"subject_code\"]\n",
    "    .apply(\n",
    "        lambda x: x.replace(\"-\", \"\")\n",
    "        .replace(\"_\", \"\")\n",
    "        .replace(\" \", \"\")\n",
    "        .replace(\"\\t\", \"\")\n",
    "        .replace(\"\\n\", \"\")\n",
    "    )\n",
    "    .str.zfill(4)\n",
    ")\n",
    "\n",
    "assessment_df[\"timestamp\"] = pd.to_datetime(assessment_df[\"timestamp\"], errors=\"coerce\")"
   ]
  },
  {
   "cell_type": "code",
   "execution_count": 3,
   "id": "a7f03f3e",
   "metadata": {},
   "outputs": [],
   "source": [
    "climbers = sessions[(sessions[\"group\"] == \"Climbing\") & (sessions[\"condition\"] != \"Learning\")]\n",
    "qa_df = pd.DataFrame(\n",
    "    columns=[\"subject_code\", \"subject_id\", \"n_scanning_sessions\", \"n_assessment_sessions\"]\n",
    ")\n",
    "for subject_code, group in climbers.groupby(\"subject_code\"):\n",
    "    n_scanning_sessions = group.shape[0]\n",
    "    n_assessment_sessions = assessment_df[assessment_df[\"subject_code\"] == subject_code].shape[0]\n",
    "    subject_id = str(group[\"subject_id\"].iloc[0]).zfill(9)\n",
    "    qa_df.loc[len(qa_df)] = [subject_code, subject_id, n_scanning_sessions, n_assessment_sessions]"
   ]
  },
  {
   "cell_type": "code",
   "execution_count": 4,
   "id": "4bdcbab2",
   "metadata": {},
   "outputs": [
    {
     "name": "stdout",
     "output_type": "stream",
     "text": [
      "Number of climbers: 88\n"
     ]
    }
   ],
   "source": [
    "print(f\"Number of climbers: {len(qa_df)}\")\n",
    "qa_df.to_csv(\"/home/galkepler/Downloads/control_climbers_to_contact.csv\", index=False)\n",
    "# qa_d"
   ]
  },
  {
   "cell_type": "code",
   "execution_count": 6,
   "id": "130f8d39",
   "metadata": {},
   "outputs": [
    {
     "data": {
      "application/vnd.microsoft.datawrangler.viewer.v0+json": {
       "columns": [
        {
         "name": "index",
         "rawType": "int64",
         "type": "integer"
        },
        {
         "name": "subject_code",
         "rawType": "object",
         "type": "string"
        },
        {
         "name": "subject_id",
         "rawType": "object",
         "type": "string"
        },
        {
         "name": "n_scanning_sessions",
         "rawType": "int64",
         "type": "integer"
        },
        {
         "name": "n_assessment_sessions",
         "rawType": "int64",
         "type": "integer"
        }
       ],
       "ref": "5266b182-3279-459f-9977-74603423b822",
       "rows": [
        [
         "0",
         "0374",
         "208409912",
         "1",
         "1"
        ],
        [
         "4",
         "0386",
         "308454800",
         "2",
         "1"
        ],
        [
         "6",
         "0401",
         "034943563",
         "2",
         "1"
        ],
        [
         "12",
         "0475",
         "204403885",
         "2",
         "1"
        ],
        [
         "22",
         "0493",
         "323216564",
         "2",
         "1"
        ],
        [
         "23",
         "0495",
         "312370489",
         "2",
         "1"
        ],
        [
         "28",
         "0554",
         "207403072",
         "2",
         "1"
        ],
        [
         "29",
         "0577",
         "208456285",
         "2",
         "1"
        ],
        [
         "30",
         "0594",
         "201449568",
         "2",
         "1"
        ],
        [
         "33",
         "0679",
         "212535512",
         "1",
         "1"
        ],
        [
         "35",
         "0682",
         "302338694",
         "2",
         "1"
        ],
        [
         "36",
         "0840",
         "027455625",
         "2",
         "1"
        ],
        [
         "41",
         "0877",
         "341102457",
         "2",
         "1"
        ],
        [
         "42",
         "0883",
         "038796108",
         "2",
         "1"
        ],
        [
         "43",
         "CLMC10",
         "208744755",
         "2",
         "1"
        ],
        [
         "44",
         "CLMC11",
         "026503581",
         "2",
         "1"
        ],
        [
         "48",
         "CLMC18",
         "200632842",
         "2",
         "1"
        ],
        [
         "49",
         "CLMC19",
         "206777823",
         "2",
         "1"
        ],
        [
         "62",
         "CLMC34",
         "213139462",
         "2",
         "1"
        ],
        [
         "66",
         "CLMC39",
         "206692444",
         "1",
         "1"
        ],
        [
         "69",
         "CLMC41",
         "201509304",
         "2",
         "1"
        ],
        [
         "72",
         "CLMC44",
         "318190345",
         "1",
         "1"
        ],
        [
         "73",
         "CLMC45",
         "214396285",
         "1",
         "1"
        ],
        [
         "74",
         "CLMC46",
         "211578802",
         "1",
         "1"
        ],
        [
         "75",
         "CLMC47",
         "322613944",
         "1",
         "1"
        ],
        [
         "77",
         "CLMC5",
         "308068030",
         "2",
         "1"
        ],
        [
         "80",
         "CLMP2",
         "212583926",
         "2",
         "1"
        ],
        [
         "82",
         "CLMP4",
         "327123501",
         "2",
         "1"
        ],
        [
         "84",
         "CLMP6",
         "323833426",
         "2",
         "1"
        ]
       ],
       "shape": {
        "columns": 4,
        "rows": 29
       }
      },
      "text/html": [
       "<div>\n",
       "<style scoped>\n",
       "    .dataframe tbody tr th:only-of-type {\n",
       "        vertical-align: middle;\n",
       "    }\n",
       "\n",
       "    .dataframe tbody tr th {\n",
       "        vertical-align: top;\n",
       "    }\n",
       "\n",
       "    .dataframe thead th {\n",
       "        text-align: right;\n",
       "    }\n",
       "</style>\n",
       "<table border=\"1\" class=\"dataframe\">\n",
       "  <thead>\n",
       "    <tr style=\"text-align: right;\">\n",
       "      <th></th>\n",
       "      <th>subject_code</th>\n",
       "      <th>subject_id</th>\n",
       "      <th>n_scanning_sessions</th>\n",
       "      <th>n_assessment_sessions</th>\n",
       "    </tr>\n",
       "  </thead>\n",
       "  <tbody>\n",
       "    <tr>\n",
       "      <th>0</th>\n",
       "      <td>0374</td>\n",
       "      <td>208409912</td>\n",
       "      <td>1</td>\n",
       "      <td>1</td>\n",
       "    </tr>\n",
       "    <tr>\n",
       "      <th>4</th>\n",
       "      <td>0386</td>\n",
       "      <td>308454800</td>\n",
       "      <td>2</td>\n",
       "      <td>1</td>\n",
       "    </tr>\n",
       "    <tr>\n",
       "      <th>6</th>\n",
       "      <td>0401</td>\n",
       "      <td>034943563</td>\n",
       "      <td>2</td>\n",
       "      <td>1</td>\n",
       "    </tr>\n",
       "    <tr>\n",
       "      <th>12</th>\n",
       "      <td>0475</td>\n",
       "      <td>204403885</td>\n",
       "      <td>2</td>\n",
       "      <td>1</td>\n",
       "    </tr>\n",
       "    <tr>\n",
       "      <th>22</th>\n",
       "      <td>0493</td>\n",
       "      <td>323216564</td>\n",
       "      <td>2</td>\n",
       "      <td>1</td>\n",
       "    </tr>\n",
       "    <tr>\n",
       "      <th>23</th>\n",
       "      <td>0495</td>\n",
       "      <td>312370489</td>\n",
       "      <td>2</td>\n",
       "      <td>1</td>\n",
       "    </tr>\n",
       "    <tr>\n",
       "      <th>28</th>\n",
       "      <td>0554</td>\n",
       "      <td>207403072</td>\n",
       "      <td>2</td>\n",
       "      <td>1</td>\n",
       "    </tr>\n",
       "    <tr>\n",
       "      <th>29</th>\n",
       "      <td>0577</td>\n",
       "      <td>208456285</td>\n",
       "      <td>2</td>\n",
       "      <td>1</td>\n",
       "    </tr>\n",
       "    <tr>\n",
       "      <th>30</th>\n",
       "      <td>0594</td>\n",
       "      <td>201449568</td>\n",
       "      <td>2</td>\n",
       "      <td>1</td>\n",
       "    </tr>\n",
       "    <tr>\n",
       "      <th>33</th>\n",
       "      <td>0679</td>\n",
       "      <td>212535512</td>\n",
       "      <td>1</td>\n",
       "      <td>1</td>\n",
       "    </tr>\n",
       "    <tr>\n",
       "      <th>35</th>\n",
       "      <td>0682</td>\n",
       "      <td>302338694</td>\n",
       "      <td>2</td>\n",
       "      <td>1</td>\n",
       "    </tr>\n",
       "    <tr>\n",
       "      <th>36</th>\n",
       "      <td>0840</td>\n",
       "      <td>027455625</td>\n",
       "      <td>2</td>\n",
       "      <td>1</td>\n",
       "    </tr>\n",
       "    <tr>\n",
       "      <th>41</th>\n",
       "      <td>0877</td>\n",
       "      <td>341102457</td>\n",
       "      <td>2</td>\n",
       "      <td>1</td>\n",
       "    </tr>\n",
       "    <tr>\n",
       "      <th>42</th>\n",
       "      <td>0883</td>\n",
       "      <td>038796108</td>\n",
       "      <td>2</td>\n",
       "      <td>1</td>\n",
       "    </tr>\n",
       "    <tr>\n",
       "      <th>43</th>\n",
       "      <td>CLMC10</td>\n",
       "      <td>208744755</td>\n",
       "      <td>2</td>\n",
       "      <td>1</td>\n",
       "    </tr>\n",
       "    <tr>\n",
       "      <th>44</th>\n",
       "      <td>CLMC11</td>\n",
       "      <td>026503581</td>\n",
       "      <td>2</td>\n",
       "      <td>1</td>\n",
       "    </tr>\n",
       "    <tr>\n",
       "      <th>48</th>\n",
       "      <td>CLMC18</td>\n",
       "      <td>200632842</td>\n",
       "      <td>2</td>\n",
       "      <td>1</td>\n",
       "    </tr>\n",
       "    <tr>\n",
       "      <th>49</th>\n",
       "      <td>CLMC19</td>\n",
       "      <td>206777823</td>\n",
       "      <td>2</td>\n",
       "      <td>1</td>\n",
       "    </tr>\n",
       "    <tr>\n",
       "      <th>62</th>\n",
       "      <td>CLMC34</td>\n",
       "      <td>213139462</td>\n",
       "      <td>2</td>\n",
       "      <td>1</td>\n",
       "    </tr>\n",
       "    <tr>\n",
       "      <th>66</th>\n",
       "      <td>CLMC39</td>\n",
       "      <td>206692444</td>\n",
       "      <td>1</td>\n",
       "      <td>1</td>\n",
       "    </tr>\n",
       "    <tr>\n",
       "      <th>69</th>\n",
       "      <td>CLMC41</td>\n",
       "      <td>201509304</td>\n",
       "      <td>2</td>\n",
       "      <td>1</td>\n",
       "    </tr>\n",
       "    <tr>\n",
       "      <th>72</th>\n",
       "      <td>CLMC44</td>\n",
       "      <td>318190345</td>\n",
       "      <td>1</td>\n",
       "      <td>1</td>\n",
       "    </tr>\n",
       "    <tr>\n",
       "      <th>73</th>\n",
       "      <td>CLMC45</td>\n",
       "      <td>214396285</td>\n",
       "      <td>1</td>\n",
       "      <td>1</td>\n",
       "    </tr>\n",
       "    <tr>\n",
       "      <th>74</th>\n",
       "      <td>CLMC46</td>\n",
       "      <td>211578802</td>\n",
       "      <td>1</td>\n",
       "      <td>1</td>\n",
       "    </tr>\n",
       "    <tr>\n",
       "      <th>75</th>\n",
       "      <td>CLMC47</td>\n",
       "      <td>322613944</td>\n",
       "      <td>1</td>\n",
       "      <td>1</td>\n",
       "    </tr>\n",
       "    <tr>\n",
       "      <th>77</th>\n",
       "      <td>CLMC5</td>\n",
       "      <td>308068030</td>\n",
       "      <td>2</td>\n",
       "      <td>1</td>\n",
       "    </tr>\n",
       "    <tr>\n",
       "      <th>80</th>\n",
       "      <td>CLMP2</td>\n",
       "      <td>212583926</td>\n",
       "      <td>2</td>\n",
       "      <td>1</td>\n",
       "    </tr>\n",
       "    <tr>\n",
       "      <th>82</th>\n",
       "      <td>CLMP4</td>\n",
       "      <td>327123501</td>\n",
       "      <td>2</td>\n",
       "      <td>1</td>\n",
       "    </tr>\n",
       "    <tr>\n",
       "      <th>84</th>\n",
       "      <td>CLMP6</td>\n",
       "      <td>323833426</td>\n",
       "      <td>2</td>\n",
       "      <td>1</td>\n",
       "    </tr>\n",
       "  </tbody>\n",
       "</table>\n",
       "</div>"
      ],
      "text/plain": [
       "   subject_code subject_id  n_scanning_sessions  n_assessment_sessions\n",
       "0          0374  208409912                    1                      1\n",
       "4          0386  308454800                    2                      1\n",
       "6          0401  034943563                    2                      1\n",
       "12         0475  204403885                    2                      1\n",
       "22         0493  323216564                    2                      1\n",
       "23         0495  312370489                    2                      1\n",
       "28         0554  207403072                    2                      1\n",
       "29         0577  208456285                    2                      1\n",
       "30         0594  201449568                    2                      1\n",
       "33         0679  212535512                    1                      1\n",
       "35         0682  302338694                    2                      1\n",
       "36         0840  027455625                    2                      1\n",
       "41         0877  341102457                    2                      1\n",
       "42         0883  038796108                    2                      1\n",
       "43       CLMC10  208744755                    2                      1\n",
       "44       CLMC11  026503581                    2                      1\n",
       "48       CLMC18  200632842                    2                      1\n",
       "49       CLMC19  206777823                    2                      1\n",
       "62       CLMC34  213139462                    2                      1\n",
       "66       CLMC39  206692444                    1                      1\n",
       "69       CLMC41  201509304                    2                      1\n",
       "72       CLMC44  318190345                    1                      1\n",
       "73       CLMC45  214396285                    1                      1\n",
       "74       CLMC46  211578802                    1                      1\n",
       "75       CLMC47  322613944                    1                      1\n",
       "77        CLMC5  308068030                    2                      1\n",
       "80        CLMP2  212583926                    2                      1\n",
       "82        CLMP4  327123501                    2                      1\n",
       "84        CLMP6  323833426                    2                      1"
      ]
     },
     "execution_count": 6,
     "metadata": {},
     "output_type": "execute_result"
    }
   ],
   "source": [
    "qa_df[qa_df[\"n_assessment_sessions\"] == 1]"
   ]
  },
  {
   "cell_type": "code",
   "execution_count": 7,
   "id": "f3fe58ea",
   "metadata": {},
   "outputs": [
    {
     "name": "stdout",
     "output_type": "stream",
     "text": [
      "Subject CLMC51 not found in sessions.\n"
     ]
    }
   ],
   "source": [
    "df = pd.DataFrame(\n",
    "    columns=sessions.columns.tolist()\n",
    "    + [\"assessment_timestamp\", \"assessment_gym\", \"assessment_score\"]\n",
    ")\n",
    "\n",
    "ind = 0\n",
    "\n",
    "for i, row in assessment_df.iterrows():\n",
    "    subject = row[\"subject_code\"]\n",
    "    session = row[\"timestamp\"]\n",
    "    if subject not in sessions[\"subject_code\"].values:\n",
    "        print(f\"Subject {subject} not found in sessions.\")\n",
    "        continue\n",
    "    subject_data = sessions.loc[sessions[\"subject_code\"] == subject]\n",
    "    # find the closest session to the assessment timestamp\n",
    "    closest_session = subject_data.iloc[(subject_data[\"timestamp\"] - session).abs().argsort()[:1]]\n",
    "    if closest_session.empty:\n",
    "        print(f\"No sessions found for subject {subject} at {session}.\")\n",
    "        continue\n",
    "    closest_session = closest_session.iloc[0]\n",
    "    for col in df.columns:\n",
    "        if col in closest_session:\n",
    "            df.at[ind, col] = closest_session[col]\n",
    "    df.at[ind, \"assessment_timestamp\"] = row[\"timestamp\"]\n",
    "    df.at[ind, \"assessment_gym\"] = row[\"gym\"]\n",
    "    df.at[ind, \"assessment_score\"] = row[\"score\"]\n",
    "    ind += 1\n",
    "\n",
    "df[\"study\"] = \"Sport\"\n",
    "df[\"group\"] = \"Climbing\"\n",
    "df = df.rename(columns={\"session_id\": \"scanning_session_id\", \"timestamp\": \"scanning_timestamp\"})"
   ]
  },
  {
   "cell_type": "code",
   "execution_count": 8,
   "id": "2e707588",
   "metadata": {},
   "outputs": [],
   "source": [
    "# keep only participants with more than one session\n",
    "df_repeated = df[\n",
    "    df[\"subject_code\"].isin(\n",
    "        df[\"subject_code\"].value_counts()[df[\"subject_code\"].value_counts() > 1].index\n",
    "    )\n",
    "]"
   ]
  },
  {
   "cell_type": "code",
   "execution_count": 9,
   "id": "c7ffc7de",
   "metadata": {},
   "outputs": [],
   "source": [
    "df_repeated.to_csv(EXTERNAL_DATA_DIR / \"sessions_climbing.csv\", index=False)"
   ]
  },
  {
   "cell_type": "code",
   "execution_count": 10,
   "id": "f0d5df6a",
   "metadata": {},
   "outputs": [],
   "source": [
    "# Tag session numbers (1, 2, 3, ...) for each subject\n",
    "df[\"session_number\"] = df.groupby(\"subject_code\").cumcount() + 1\n",
    "\n",
    "# df.drop_duplicates(subset=\"subject_code\",keep=\"first\").groupby([\"condition\"]).count()\n",
    "# df_repeated.drop_duplicates(subset=\"subject_code\", keep=\"first\")\n",
    "# df[\"subject_code\"].value_counts()\n",
    "df_repeated.drop(\n",
    "    columns=[\"scanning_timestamp\", \"path\", \"study\", \"group\", \"scanning_session_id\", \"subject_id\"]\n",
    ").to_csv(EXTERNAL_DATA_DIR / \"climbing_sessions.csv\", index=False)"
   ]
  },
  {
   "cell_type": "code",
   "execution_count": 11,
   "id": "a7731f19",
   "metadata": {},
   "outputs": [
    {
     "data": {
      "application/vnd.microsoft.datawrangler.viewer.v0+json": {
       "columns": [
        {
         "name": "index",
         "rawType": "int64",
         "type": "integer"
        },
        {
         "name": "subject_code",
         "rawType": "object",
         "type": "string"
        },
        {
         "name": "subject_id",
         "rawType": "object",
         "type": "unknown"
        },
        {
         "name": "dob",
         "rawType": "object",
         "type": "string"
        },
        {
         "name": "age_at_scan",
         "rawType": "object",
         "type": "unknown"
        },
        {
         "name": "sex",
         "rawType": "object",
         "type": "string"
        },
        {
         "name": "scanning_session_id",
         "rawType": "object",
         "type": "string"
        },
        {
         "name": "study",
         "rawType": "object",
         "type": "string"
        },
        {
         "name": "group",
         "rawType": "object",
         "type": "string"
        },
        {
         "name": "condition",
         "rawType": "object",
         "type": "string"
        },
        {
         "name": "path",
         "rawType": "object",
         "type": "string"
        },
        {
         "name": "weight",
         "rawType": "object",
         "type": "unknown"
        },
        {
         "name": "height",
         "rawType": "object",
         "type": "unknown"
        },
        {
         "name": "filled",
         "rawType": "object",
         "type": "unknown"
        },
        {
         "name": "version",
         "rawType": "object",
         "type": "unknown"
        },
        {
         "name": "handedness",
         "rawType": "object",
         "type": "unknown"
        },
        {
         "name": "gender",
         "rawType": "object",
         "type": "unknown"
        },
        {
         "name": "sexual_orientation",
         "rawType": "object",
         "type": "unknown"
        },
        {
         "name": "living_environment",
         "rawType": "object",
         "type": "unknown"
        },
        {
         "name": "years_in_residence",
         "rawType": "object",
         "type": "unknown"
        },
        {
         "name": "marital_status",
         "rawType": "object",
         "type": "unknown"
        },
        {
         "name": "relationship_duration",
         "rawType": "object",
         "type": "unknown"
        },
        {
         "name": "number_of_children",
         "rawType": "object",
         "type": "unknown"
        },
        {
         "name": "number_of_siblings",
         "rawType": "object",
         "type": "unknown"
        },
        {
         "name": "sibling_order",
         "rawType": "object",
         "type": "unknown"
        },
        {
         "name": "twins",
         "rawType": "object",
         "type": "unknown"
        },
        {
         "name": "ethnic_identity",
         "rawType": "object",
         "type": "unknown"
        },
        {
         "name": "political_orientation",
         "rawType": "object",
         "type": "unknown"
        },
        {
         "name": "religion",
         "rawType": "object",
         "type": "unknown"
        },
        {
         "name": "religion_degree",
         "rawType": "object",
         "type": "unknown"
        },
        {
         "name": "family_history",
         "rawType": "object",
         "type": "unknown"
        },
        {
         "name": "blood_sugar",
         "rawType": "object",
         "type": "unknown"
        },
        {
         "name": "blood_pressure",
         "rawType": "object",
         "type": "unknown"
        },
        {
         "name": "thyroids",
         "rawType": "object",
         "type": "unknown"
        },
        {
         "name": "lipids",
         "rawType": "object",
         "type": "unknown"
        },
        {
         "name": "severe_health_conditions",
         "rawType": "object",
         "type": "unknown"
        },
        {
         "name": "major_health_conditions",
         "rawType": "object",
         "type": "unknown"
        },
        {
         "name": "minor_health_conditions",
         "rawType": "object",
         "type": "unknown"
        },
        {
         "name": "brain_health",
         "rawType": "object",
         "type": "unknown"
        },
        {
         "name": "depression",
         "rawType": "object",
         "type": "unknown"
        },
        {
         "name": "anxiety",
         "rawType": "object",
         "type": "unknown"
        },
        {
         "name": "communication_disorders",
         "rawType": "object",
         "type": "unknown"
        },
        {
         "name": "attention_disorders",
         "rawType": "object",
         "type": "unknown"
        },
        {
         "name": "visual_aid",
         "rawType": "object",
         "type": "unknown"
        },
        {
         "name": "hearing_aid",
         "rawType": "object",
         "type": "unknown"
        },
        {
         "name": "psqi",
         "rawType": "object",
         "type": "unknown"
        },
        {
         "name": "long_covid",
         "rawType": "object",
         "type": "unknown"
        },
        {
         "name": "oasis",
         "rawType": "object",
         "type": "unknown"
        },
        {
         "name": "pcl5",
         "rawType": "object",
         "type": "unknown"
        },
        {
         "name": "gad7",
         "rawType": "object",
         "type": "unknown"
        },
        {
         "name": "phq9",
         "rawType": "object",
         "type": "unknown"
        },
        {
         "name": "b5_extraversion",
         "rawType": "object",
         "type": "unknown"
        },
        {
         "name": "b5_agreeableness",
         "rawType": "object",
         "type": "unknown"
        },
        {
         "name": "b5_conscientiousness",
         "rawType": "object",
         "type": "unknown"
        },
        {
         "name": "b5_emotional_stability",
         "rawType": "object",
         "type": "unknown"
        },
        {
         "name": "b5_openness",
         "rawType": "object",
         "type": "unknown"
        },
        {
         "name": "hli",
         "rawType": "object",
         "type": "unknown"
        },
        {
         "name": "swls",
         "rawType": "object",
         "type": "unknown"
        },
        {
         "name": "education_level",
         "rawType": "object",
         "type": "unknown"
        },
        {
         "name": "salary",
         "rawType": "object",
         "type": "unknown"
        },
        {
         "name": "psychometric_score",
         "rawType": "object",
         "type": "unknown"
        },
        {
         "name": "main_hobby",
         "rawType": "object",
         "type": "unknown"
        },
        {
         "name": "hobby_time",
         "rawType": "object",
         "type": "unknown"
        },
        {
         "name": "weekly_workouts",
         "rawType": "object",
         "type": "unknown"
        },
        {
         "name": "training_alone",
         "rawType": "object",
         "type": "unknown"
        },
        {
         "name": "takeout_frequency",
         "rawType": "object",
         "type": "unknown"
        },
        {
         "name": "dine_out_frequency",
         "rawType": "object",
         "type": "unknown"
        },
        {
         "name": "caffeine",
         "rawType": "object",
         "type": "unknown"
        },
        {
         "name": "water",
         "rawType": "object",
         "type": "unknown"
        },
        {
         "name": "sugar_beverages",
         "rawType": "object",
         "type": "unknown"
        },
        {
         "name": "alcohol",
         "rawType": "object",
         "type": "unknown"
        },
        {
         "name": "nutrition",
         "rawType": "object",
         "type": "unknown"
        },
        {
         "name": "smoking",
         "rawType": "object",
         "type": "unknown"
        },
        {
         "name": "cannabis",
         "rawType": "object",
         "type": "unknown"
        },
        {
         "name": "other_drugs",
         "rawType": "object",
         "type": "unknown"
        },
        {
         "name": "smoke_frequency_per_day",
         "rawType": "object",
         "type": "unknown"
        },
        {
         "name": "canabis_frequency_per_week",
         "rawType": "object",
         "type": "unknown"
        },
        {
         "name": "sos_q",
         "rawType": "object",
         "type": "unknown"
        },
        {
         "name": "smartphone_usage",
         "rawType": "object",
         "type": "unknown"
        },
        {
         "name": "has_pet",
         "rawType": "object",
         "type": "unknown"
        },
        {
         "name": "pet_type",
         "rawType": "object",
         "type": "unknown"
        },
        {
         "name": "pet_duration",
         "rawType": "object",
         "type": "unknown"
        },
        {
         "name": "home_cooking_times_per_week",
         "rawType": "object",
         "type": "unknown"
        },
        {
         "name": "recreational_activity_times_per_week",
         "rawType": "object",
         "type": "unknown"
        },
        {
         "name": "working_with_computer_times_per_week",
         "rawType": "object",
         "type": "unknown"
        },
        {
         "name": "screen_time",
         "rawType": "object",
         "type": "unknown"
        },
        {
         "name": "situational_phobia",
         "rawType": "object",
         "type": "unknown"
        },
        {
         "name": "social_phobia",
         "rawType": "object",
         "type": "unknown"
        },
        {
         "name": "animal_based_phobia",
         "rawType": "object",
         "type": "unknown"
        },
        {
         "name": "medical_phobia",
         "rawType": "object",
         "type": "unknown"
        },
        {
         "name": "total_phobia",
         "rawType": "object",
         "type": "unknown"
        },
        {
         "name": "scanning_timestamp",
         "rawType": "object",
         "type": "unknown"
        },
        {
         "name": "assessment_timestamp",
         "rawType": "object",
         "type": "unknown"
        },
        {
         "name": "assessment_gym",
         "rawType": "object",
         "type": "string"
        },
        {
         "name": "assessment_score",
         "rawType": "object",
         "type": "unknown"
        }
       ],
       "ref": "2ca1cb60-4714-4ee2-9755-165eefa2b600",
       "rows": [
        [
         "38",
         "0618",
         "36385151",
         "1979-02-15",
         "42.98",
         "M",
         "202202061629",
         "Sport",
         "Climbing",
         "Learning",
         "/mnt/62/Raw_Data/20220206_1629",
         "77.0",
         "181.0",
         "False",
         null,
         null,
         null,
         null,
         null,
         null,
         null,
         null,
         null,
         null,
         null,
         null,
         null,
         null,
         null,
         null,
         null,
         null,
         null,
         null,
         null,
         null,
         null,
         null,
         null,
         null,
         null,
         null,
         null,
         null,
         null,
         null,
         null,
         null,
         null,
         null,
         null,
         null,
         null,
         null,
         null,
         null,
         null,
         null,
         null,
         null,
         null,
         null,
         null,
         null,
         null,
         null,
         null,
         null,
         null,
         null,
         null,
         null,
         null,
         null,
         null,
         null,
         null,
         null,
         null,
         null,
         null,
         null,
         null,
         null,
         null,
         null,
         null,
         null,
         null,
         null,
         null,
         "2022-02-06 16:02:09",
         "2022-02-10 21:17:55",
         "פרפורמנס רוק תא",
         "4.42"
        ],
        [
         "39",
         "0618",
         "36385151",
         "1979-02-15",
         "43.06",
         "M",
         "202203071404",
         "Sport",
         "Climbing",
         "Learning",
         "/mnt/62/Raw_Data/20220307_1404",
         "77.0",
         "181.0",
         "False",
         null,
         null,
         null,
         null,
         null,
         null,
         null,
         null,
         null,
         null,
         null,
         null,
         null,
         null,
         null,
         null,
         null,
         null,
         null,
         null,
         null,
         null,
         null,
         null,
         null,
         null,
         null,
         null,
         null,
         null,
         null,
         null,
         null,
         null,
         null,
         null,
         null,
         null,
         null,
         null,
         null,
         null,
         null,
         null,
         null,
         null,
         null,
         null,
         null,
         null,
         null,
         null,
         null,
         null,
         null,
         null,
         null,
         null,
         null,
         null,
         null,
         null,
         null,
         null,
         null,
         null,
         null,
         null,
         null,
         null,
         null,
         null,
         null,
         null,
         null,
         null,
         null,
         "2022-03-07 14:00:04",
         "2022-03-14 21:43:21",
         "פרפורמנס רוק תא",
         "3.69"
        ],
        [
         "40",
         "0618",
         "36385151",
         "1979-02-15",
         "43.23",
         "M",
         "202205080832",
         "Sport",
         "Climbing",
         "Learning",
         "/mnt/62/Raw_Data/20220508_0832",
         "77.0",
         "181.0",
         "False",
         null,
         null,
         null,
         null,
         null,
         null,
         null,
         null,
         null,
         null,
         null,
         null,
         null,
         null,
         null,
         null,
         null,
         null,
         null,
         null,
         null,
         null,
         null,
         null,
         null,
         null,
         null,
         null,
         null,
         null,
         null,
         null,
         null,
         null,
         null,
         null,
         null,
         null,
         null,
         null,
         null,
         null,
         null,
         null,
         null,
         null,
         null,
         null,
         null,
         null,
         null,
         null,
         null,
         null,
         null,
         null,
         null,
         null,
         null,
         null,
         null,
         null,
         null,
         null,
         null,
         null,
         null,
         null,
         null,
         null,
         null,
         null,
         null,
         null,
         null,
         null,
         null,
         "2022-05-08 08:03:02",
         "2022-05-07 11:03:04",
         "פרפורמנס רוק תא",
         "8.67"
        ]
       ],
       "shape": {
        "columns": 94,
        "rows": 3
       }
      },
      "text/html": [
       "<div>\n",
       "<style scoped>\n",
       "    .dataframe tbody tr th:only-of-type {\n",
       "        vertical-align: middle;\n",
       "    }\n",
       "\n",
       "    .dataframe tbody tr th {\n",
       "        vertical-align: top;\n",
       "    }\n",
       "\n",
       "    .dataframe thead th {\n",
       "        text-align: right;\n",
       "    }\n",
       "</style>\n",
       "<table border=\"1\" class=\"dataframe\">\n",
       "  <thead>\n",
       "    <tr style=\"text-align: right;\">\n",
       "      <th></th>\n",
       "      <th>subject_code</th>\n",
       "      <th>subject_id</th>\n",
       "      <th>dob</th>\n",
       "      <th>age_at_scan</th>\n",
       "      <th>sex</th>\n",
       "      <th>scanning_session_id</th>\n",
       "      <th>study</th>\n",
       "      <th>group</th>\n",
       "      <th>condition</th>\n",
       "      <th>path</th>\n",
       "      <th>...</th>\n",
       "      <th>screen_time</th>\n",
       "      <th>situational_phobia</th>\n",
       "      <th>social_phobia</th>\n",
       "      <th>animal_based_phobia</th>\n",
       "      <th>medical_phobia</th>\n",
       "      <th>total_phobia</th>\n",
       "      <th>scanning_timestamp</th>\n",
       "      <th>assessment_timestamp</th>\n",
       "      <th>assessment_gym</th>\n",
       "      <th>assessment_score</th>\n",
       "    </tr>\n",
       "  </thead>\n",
       "  <tbody>\n",
       "    <tr>\n",
       "      <th>38</th>\n",
       "      <td>0618</td>\n",
       "      <td>36385151</td>\n",
       "      <td>1979-02-15</td>\n",
       "      <td>42.98</td>\n",
       "      <td>M</td>\n",
       "      <td>202202061629</td>\n",
       "      <td>Sport</td>\n",
       "      <td>Climbing</td>\n",
       "      <td>Learning</td>\n",
       "      <td>/mnt/62/Raw_Data/20220206_1629</td>\n",
       "      <td>...</td>\n",
       "      <td>NaN</td>\n",
       "      <td>NaN</td>\n",
       "      <td>NaN</td>\n",
       "      <td>NaN</td>\n",
       "      <td>NaN</td>\n",
       "      <td>NaN</td>\n",
       "      <td>2022-02-06 16:02:09</td>\n",
       "      <td>2022-02-10 21:17:55</td>\n",
       "      <td>פרפורמנס רוק תא</td>\n",
       "      <td>4.42</td>\n",
       "    </tr>\n",
       "    <tr>\n",
       "      <th>39</th>\n",
       "      <td>0618</td>\n",
       "      <td>36385151</td>\n",
       "      <td>1979-02-15</td>\n",
       "      <td>43.06</td>\n",
       "      <td>M</td>\n",
       "      <td>202203071404</td>\n",
       "      <td>Sport</td>\n",
       "      <td>Climbing</td>\n",
       "      <td>Learning</td>\n",
       "      <td>/mnt/62/Raw_Data/20220307_1404</td>\n",
       "      <td>...</td>\n",
       "      <td>NaN</td>\n",
       "      <td>NaN</td>\n",
       "      <td>NaN</td>\n",
       "      <td>NaN</td>\n",
       "      <td>NaN</td>\n",
       "      <td>NaN</td>\n",
       "      <td>2022-03-07 14:00:04</td>\n",
       "      <td>2022-03-14 21:43:21</td>\n",
       "      <td>פרפורמנס רוק תא</td>\n",
       "      <td>3.69</td>\n",
       "    </tr>\n",
       "    <tr>\n",
       "      <th>40</th>\n",
       "      <td>0618</td>\n",
       "      <td>36385151</td>\n",
       "      <td>1979-02-15</td>\n",
       "      <td>43.23</td>\n",
       "      <td>M</td>\n",
       "      <td>202205080832</td>\n",
       "      <td>Sport</td>\n",
       "      <td>Climbing</td>\n",
       "      <td>Learning</td>\n",
       "      <td>/mnt/62/Raw_Data/20220508_0832</td>\n",
       "      <td>...</td>\n",
       "      <td>NaN</td>\n",
       "      <td>NaN</td>\n",
       "      <td>NaN</td>\n",
       "      <td>NaN</td>\n",
       "      <td>NaN</td>\n",
       "      <td>NaN</td>\n",
       "      <td>2022-05-08 08:03:02</td>\n",
       "      <td>2022-05-07 11:03:04</td>\n",
       "      <td>פרפורמנס רוק תא</td>\n",
       "      <td>8.67</td>\n",
       "    </tr>\n",
       "  </tbody>\n",
       "</table>\n",
       "<p>3 rows × 94 columns</p>\n",
       "</div>"
      ],
      "text/plain": [
       "   subject_code subject_id         dob age_at_scan sex scanning_session_id  \\\n",
       "38         0618   36385151  1979-02-15       42.98   M        202202061629   \n",
       "39         0618   36385151  1979-02-15       43.06   M        202203071404   \n",
       "40         0618   36385151  1979-02-15       43.23   M        202205080832   \n",
       "\n",
       "    study     group condition                            path  ...  \\\n",
       "38  Sport  Climbing  Learning  /mnt/62/Raw_Data/20220206_1629  ...   \n",
       "39  Sport  Climbing  Learning  /mnt/62/Raw_Data/20220307_1404  ...   \n",
       "40  Sport  Climbing  Learning  /mnt/62/Raw_Data/20220508_0832  ...   \n",
       "\n",
       "   screen_time situational_phobia social_phobia animal_based_phobia  \\\n",
       "38         NaN                NaN           NaN                 NaN   \n",
       "39         NaN                NaN           NaN                 NaN   \n",
       "40         NaN                NaN           NaN                 NaN   \n",
       "\n",
       "   medical_phobia total_phobia   scanning_timestamp assessment_timestamp  \\\n",
       "38            NaN          NaN  2022-02-06 16:02:09  2022-02-10 21:17:55   \n",
       "39            NaN          NaN  2022-03-07 14:00:04  2022-03-14 21:43:21   \n",
       "40            NaN          NaN  2022-05-08 08:03:02  2022-05-07 11:03:04   \n",
       "\n",
       "     assessment_gym assessment_score  \n",
       "38  פרפורמנס רוק תא             4.42  \n",
       "39  פרפורמנס רוק תא             3.69  \n",
       "40  פרפורמנס רוק תא             8.67  \n",
       "\n",
       "[3 rows x 94 columns]"
      ]
     },
     "execution_count": 11,
     "metadata": {},
     "output_type": "execute_result"
    }
   ],
   "source": [
    "df_repeated[df_repeated[\"subject_code\"] == \"0618\"]"
   ]
  },
  {
   "cell_type": "code",
   "execution_count": 12,
   "id": "59fe7810",
   "metadata": {},
   "outputs": [],
   "source": [
    "df[\"tag\"] = df[\"condition\"] + \"-\" + df[\"session_number\"].astype(str)\n",
    "\n",
    "order = [\"Learning\", \"Control\", \"Professional\"]\n",
    "\n",
    "mapping = {}\n",
    "for i, condition in enumerate(order):\n",
    "    for j in range(1, df[\"session_number\"].max() + 1):\n",
    "        mapping[f\"{condition}-{j}\"] = i * 10 + j\n",
    "\n",
    "# sort by learner -> control -> expert and then by session number\n",
    "df = df.sort_values(by=\"tag\", key=lambda x: x.map(mapping))"
   ]
  },
  {
   "cell_type": "code",
   "execution_count": 13,
   "id": "94cbb091",
   "metadata": {},
   "outputs": [
    {
     "data": {
      "application/vnd.microsoft.datawrangler.viewer.v0+json": {
       "columns": [
        {
         "name": "index",
         "rawType": "int64",
         "type": "integer"
        },
        {
         "name": "subject_code",
         "rawType": "object",
         "type": "string"
        },
        {
         "name": "subject_id",
         "rawType": "int64",
         "type": "integer"
        },
        {
         "name": "dob",
         "rawType": "object",
         "type": "string"
        },
        {
         "name": "age_at_scan",
         "rawType": "float64",
         "type": "float"
        },
        {
         "name": "sex",
         "rawType": "object",
         "type": "string"
        },
        {
         "name": "session_id",
         "rawType": "object",
         "type": "string"
        },
        {
         "name": "study",
         "rawType": "object",
         "type": "string"
        },
        {
         "name": "group",
         "rawType": "object",
         "type": "string"
        },
        {
         "name": "condition",
         "rawType": "object",
         "type": "string"
        },
        {
         "name": "path",
         "rawType": "object",
         "type": "string"
        },
        {
         "name": "weight",
         "rawType": "float64",
         "type": "float"
        },
        {
         "name": "height",
         "rawType": "float64",
         "type": "float"
        },
        {
         "name": "filled",
         "rawType": "bool",
         "type": "boolean"
        },
        {
         "name": "version",
         "rawType": "float64",
         "type": "float"
        },
        {
         "name": "handedness",
         "rawType": "object",
         "type": "unknown"
        },
        {
         "name": "gender",
         "rawType": "object",
         "type": "unknown"
        },
        {
         "name": "sexual_orientation",
         "rawType": "object",
         "type": "unknown"
        },
        {
         "name": "living_environment",
         "rawType": "object",
         "type": "unknown"
        },
        {
         "name": "years_in_residence",
         "rawType": "float64",
         "type": "float"
        },
        {
         "name": "marital_status",
         "rawType": "object",
         "type": "unknown"
        },
        {
         "name": "relationship_duration",
         "rawType": "float64",
         "type": "float"
        },
        {
         "name": "number_of_children",
         "rawType": "float64",
         "type": "float"
        },
        {
         "name": "number_of_siblings",
         "rawType": "float64",
         "type": "float"
        },
        {
         "name": "sibling_order",
         "rawType": "float64",
         "type": "float"
        },
        {
         "name": "twins",
         "rawType": "object",
         "type": "unknown"
        },
        {
         "name": "ethnic_identity",
         "rawType": "object",
         "type": "unknown"
        },
        {
         "name": "political_orientation",
         "rawType": "object",
         "type": "unknown"
        },
        {
         "name": "religion",
         "rawType": "object",
         "type": "unknown"
        },
        {
         "name": "religion_degree",
         "rawType": "object",
         "type": "unknown"
        },
        {
         "name": "family_history",
         "rawType": "float64",
         "type": "float"
        },
        {
         "name": "blood_sugar",
         "rawType": "object",
         "type": "unknown"
        },
        {
         "name": "blood_pressure",
         "rawType": "object",
         "type": "unknown"
        },
        {
         "name": "thyroids",
         "rawType": "object",
         "type": "unknown"
        },
        {
         "name": "lipids",
         "rawType": "object",
         "type": "unknown"
        },
        {
         "name": "severe_health_conditions",
         "rawType": "float64",
         "type": "float"
        },
        {
         "name": "major_health_conditions",
         "rawType": "float64",
         "type": "float"
        },
        {
         "name": "minor_health_conditions",
         "rawType": "float64",
         "type": "float"
        },
        {
         "name": "brain_health",
         "rawType": "float64",
         "type": "float"
        },
        {
         "name": "depression",
         "rawType": "object",
         "type": "unknown"
        },
        {
         "name": "anxiety",
         "rawType": "object",
         "type": "unknown"
        },
        {
         "name": "communication_disorders",
         "rawType": "object",
         "type": "unknown"
        },
        {
         "name": "attention_disorders",
         "rawType": "object",
         "type": "unknown"
        },
        {
         "name": "visual_aid",
         "rawType": "object",
         "type": "unknown"
        },
        {
         "name": "hearing_aid",
         "rawType": "object",
         "type": "unknown"
        },
        {
         "name": "psqi",
         "rawType": "float64",
         "type": "float"
        },
        {
         "name": "long_covid",
         "rawType": "object",
         "type": "unknown"
        },
        {
         "name": "oasis",
         "rawType": "float64",
         "type": "float"
        },
        {
         "name": "pcl5",
         "rawType": "float64",
         "type": "float"
        },
        {
         "name": "gad7",
         "rawType": "float64",
         "type": "float"
        },
        {
         "name": "phq9",
         "rawType": "float64",
         "type": "float"
        },
        {
         "name": "b5_extraversion",
         "rawType": "float64",
         "type": "float"
        },
        {
         "name": "b5_agreeableness",
         "rawType": "float64",
         "type": "float"
        },
        {
         "name": "b5_conscientiousness",
         "rawType": "float64",
         "type": "float"
        },
        {
         "name": "b5_emotional_stability",
         "rawType": "float64",
         "type": "float"
        },
        {
         "name": "b5_openness",
         "rawType": "float64",
         "type": "float"
        },
        {
         "name": "hli",
         "rawType": "float64",
         "type": "float"
        },
        {
         "name": "swls",
         "rawType": "float64",
         "type": "float"
        },
        {
         "name": "education_level",
         "rawType": "object",
         "type": "unknown"
        },
        {
         "name": "salary",
         "rawType": "float64",
         "type": "float"
        },
        {
         "name": "psychometric_score",
         "rawType": "float64",
         "type": "float"
        },
        {
         "name": "main_hobby",
         "rawType": "object",
         "type": "unknown"
        },
        {
         "name": "hobby_time",
         "rawType": "float64",
         "type": "float"
        },
        {
         "name": "weekly_workouts",
         "rawType": "float64",
         "type": "float"
        },
        {
         "name": "training_alone",
         "rawType": "object",
         "type": "unknown"
        },
        {
         "name": "takeout_frequency",
         "rawType": "float64",
         "type": "float"
        },
        {
         "name": "dine_out_frequency",
         "rawType": "float64",
         "type": "float"
        },
        {
         "name": "caffeine",
         "rawType": "float64",
         "type": "float"
        },
        {
         "name": "water",
         "rawType": "float64",
         "type": "float"
        },
        {
         "name": "sugar_beverages",
         "rawType": "float64",
         "type": "float"
        },
        {
         "name": "alcohol",
         "rawType": "float64",
         "type": "float"
        },
        {
         "name": "nutrition",
         "rawType": "object",
         "type": "unknown"
        },
        {
         "name": "smoking",
         "rawType": "object",
         "type": "unknown"
        },
        {
         "name": "cannabis",
         "rawType": "object",
         "type": "unknown"
        },
        {
         "name": "other_drugs",
         "rawType": "object",
         "type": "unknown"
        },
        {
         "name": "smoke_frequency_per_day",
         "rawType": "float64",
         "type": "float"
        },
        {
         "name": "canabis_frequency_per_week",
         "rawType": "float64",
         "type": "float"
        },
        {
         "name": "sos_q",
         "rawType": "float64",
         "type": "float"
        },
        {
         "name": "smartphone_usage",
         "rawType": "float64",
         "type": "float"
        },
        {
         "name": "has_pet",
         "rawType": "object",
         "type": "unknown"
        },
        {
         "name": "pet_type",
         "rawType": "object",
         "type": "unknown"
        },
        {
         "name": "pet_duration",
         "rawType": "object",
         "type": "unknown"
        },
        {
         "name": "home_cooking_times_per_week",
         "rawType": "float64",
         "type": "float"
        },
        {
         "name": "recreational_activity_times_per_week",
         "rawType": "float64",
         "type": "float"
        },
        {
         "name": "working_with_computer_times_per_week",
         "rawType": "float64",
         "type": "float"
        },
        {
         "name": "screen_time",
         "rawType": "float64",
         "type": "float"
        },
        {
         "name": "situational_phobia",
         "rawType": "float64",
         "type": "float"
        },
        {
         "name": "social_phobia",
         "rawType": "float64",
         "type": "float"
        },
        {
         "name": "animal_based_phobia",
         "rawType": "float64",
         "type": "float"
        },
        {
         "name": "medical_phobia",
         "rawType": "float64",
         "type": "float"
        },
        {
         "name": "total_phobia",
         "rawType": "float64",
         "type": "float"
        },
        {
         "name": "timestamp",
         "rawType": "datetime64[ns]",
         "type": "datetime"
        }
       ],
       "ref": "760ecb72-29f7-47f2-a093-64eb0266d80b",
       "rows": [
        [
         "665",
         "0504",
         "301046447",
         "1987-08-02",
         "34.16",
         "M",
         "202109291319",
         "Sport",
         "Climbing",
         "Professional",
         "/mnt/62/Raw_Data/20210929_1319",
         "74.0",
         "180.0",
         "False",
         null,
         null,
         null,
         null,
         null,
         null,
         null,
         null,
         null,
         null,
         null,
         null,
         null,
         null,
         null,
         null,
         null,
         null,
         null,
         null,
         null,
         null,
         null,
         null,
         null,
         null,
         null,
         null,
         null,
         null,
         null,
         null,
         null,
         null,
         null,
         null,
         null,
         null,
         null,
         null,
         null,
         null,
         null,
         null,
         null,
         null,
         null,
         null,
         null,
         null,
         null,
         null,
         null,
         null,
         null,
         null,
         null,
         null,
         null,
         null,
         null,
         null,
         null,
         null,
         null,
         null,
         null,
         null,
         null,
         null,
         null,
         null,
         null,
         null,
         null,
         null,
         null,
         "2021-09-29 13:01:09"
        ],
        [
         "782",
         "0504",
         "301046447",
         "1987-08-02",
         "34.44",
         "M",
         "202201091544",
         "Sport",
         "Climbing",
         "Professional",
         "/mnt/62/Raw_Data/20220109_1544",
         "74.0",
         "180.0",
         "False",
         null,
         null,
         null,
         null,
         null,
         null,
         null,
         null,
         null,
         null,
         null,
         null,
         null,
         null,
         null,
         null,
         null,
         null,
         null,
         null,
         null,
         null,
         null,
         null,
         null,
         null,
         null,
         null,
         null,
         null,
         null,
         null,
         null,
         null,
         null,
         null,
         null,
         null,
         null,
         null,
         null,
         null,
         null,
         null,
         null,
         null,
         null,
         null,
         null,
         null,
         null,
         null,
         null,
         null,
         null,
         null,
         null,
         null,
         null,
         null,
         null,
         null,
         null,
         null,
         null,
         null,
         null,
         null,
         null,
         null,
         null,
         null,
         null,
         null,
         null,
         null,
         null,
         "2022-01-09 15:04:04"
        ]
       ],
       "shape": {
        "columns": 91,
        "rows": 2
       }
      },
      "text/html": [
       "<div>\n",
       "<style scoped>\n",
       "    .dataframe tbody tr th:only-of-type {\n",
       "        vertical-align: middle;\n",
       "    }\n",
       "\n",
       "    .dataframe tbody tr th {\n",
       "        vertical-align: top;\n",
       "    }\n",
       "\n",
       "    .dataframe thead th {\n",
       "        text-align: right;\n",
       "    }\n",
       "</style>\n",
       "<table border=\"1\" class=\"dataframe\">\n",
       "  <thead>\n",
       "    <tr style=\"text-align: right;\">\n",
       "      <th></th>\n",
       "      <th>subject_code</th>\n",
       "      <th>subject_id</th>\n",
       "      <th>dob</th>\n",
       "      <th>age_at_scan</th>\n",
       "      <th>sex</th>\n",
       "      <th>session_id</th>\n",
       "      <th>study</th>\n",
       "      <th>group</th>\n",
       "      <th>condition</th>\n",
       "      <th>path</th>\n",
       "      <th>...</th>\n",
       "      <th>home_cooking_times_per_week</th>\n",
       "      <th>recreational_activity_times_per_week</th>\n",
       "      <th>working_with_computer_times_per_week</th>\n",
       "      <th>screen_time</th>\n",
       "      <th>situational_phobia</th>\n",
       "      <th>social_phobia</th>\n",
       "      <th>animal_based_phobia</th>\n",
       "      <th>medical_phobia</th>\n",
       "      <th>total_phobia</th>\n",
       "      <th>timestamp</th>\n",
       "    </tr>\n",
       "  </thead>\n",
       "  <tbody>\n",
       "    <tr>\n",
       "      <th>665</th>\n",
       "      <td>0504</td>\n",
       "      <td>301046447</td>\n",
       "      <td>1987-08-02</td>\n",
       "      <td>34.16</td>\n",
       "      <td>M</td>\n",
       "      <td>202109291319</td>\n",
       "      <td>Sport</td>\n",
       "      <td>Climbing</td>\n",
       "      <td>Professional</td>\n",
       "      <td>/mnt/62/Raw_Data/20210929_1319</td>\n",
       "      <td>...</td>\n",
       "      <td>NaN</td>\n",
       "      <td>NaN</td>\n",
       "      <td>NaN</td>\n",
       "      <td>NaN</td>\n",
       "      <td>NaN</td>\n",
       "      <td>NaN</td>\n",
       "      <td>NaN</td>\n",
       "      <td>NaN</td>\n",
       "      <td>NaN</td>\n",
       "      <td>2021-09-29 13:01:09</td>\n",
       "    </tr>\n",
       "    <tr>\n",
       "      <th>782</th>\n",
       "      <td>0504</td>\n",
       "      <td>301046447</td>\n",
       "      <td>1987-08-02</td>\n",
       "      <td>34.44</td>\n",
       "      <td>M</td>\n",
       "      <td>202201091544</td>\n",
       "      <td>Sport</td>\n",
       "      <td>Climbing</td>\n",
       "      <td>Professional</td>\n",
       "      <td>/mnt/62/Raw_Data/20220109_1544</td>\n",
       "      <td>...</td>\n",
       "      <td>NaN</td>\n",
       "      <td>NaN</td>\n",
       "      <td>NaN</td>\n",
       "      <td>NaN</td>\n",
       "      <td>NaN</td>\n",
       "      <td>NaN</td>\n",
       "      <td>NaN</td>\n",
       "      <td>NaN</td>\n",
       "      <td>NaN</td>\n",
       "      <td>2022-01-09 15:04:04</td>\n",
       "    </tr>\n",
       "  </tbody>\n",
       "</table>\n",
       "<p>2 rows × 91 columns</p>\n",
       "</div>"
      ],
      "text/plain": [
       "    subject_code  subject_id         dob  age_at_scan sex    session_id  \\\n",
       "665         0504   301046447  1987-08-02        34.16   M  202109291319   \n",
       "782         0504   301046447  1987-08-02        34.44   M  202201091544   \n",
       "\n",
       "     study     group     condition                            path  ...  \\\n",
       "665  Sport  Climbing  Professional  /mnt/62/Raw_Data/20210929_1319  ...   \n",
       "782  Sport  Climbing  Professional  /mnt/62/Raw_Data/20220109_1544  ...   \n",
       "\n",
       "     home_cooking_times_per_week  recreational_activity_times_per_week  \\\n",
       "665                          NaN                                   NaN   \n",
       "782                          NaN                                   NaN   \n",
       "\n",
       "     working_with_computer_times_per_week  screen_time situational_phobia  \\\n",
       "665                                   NaN          NaN                NaN   \n",
       "782                                   NaN          NaN                NaN   \n",
       "\n",
       "    social_phobia animal_based_phobia medical_phobia  total_phobia  \\\n",
       "665           NaN                 NaN            NaN           NaN   \n",
       "782           NaN                 NaN            NaN           NaN   \n",
       "\n",
       "              timestamp  \n",
       "665 2021-09-29 13:01:09  \n",
       "782 2022-01-09 15:04:04  \n",
       "\n",
       "[2 rows x 91 columns]"
      ]
     },
     "execution_count": 13,
     "metadata": {},
     "output_type": "execute_result"
    }
   ],
   "source": [
    "sessions[sessions[\"subject_code\"] == \"0504\"]"
   ]
  },
  {
   "cell_type": "code",
   "execution_count": 14,
   "id": "e7260cf6",
   "metadata": {},
   "outputs": [],
   "source": [
    "# df[df[\"condition\"] == \"Professional\"].sort_values(\"assessment_score\")\n",
    "df[\"is_prock\"] = df[\"assessment_gym\"].str.contains(\"פרפורמנס רוק תא\")\n",
    "df.loc[df[\"condition\"] == \"Learning\", \"is_prock\"] = True\n",
    "# df[\"assessment_gym\"].unique()"
   ]
  },
  {
   "cell_type": "code",
   "execution_count": 15,
   "id": "8f7d29d1",
   "metadata": {},
   "outputs": [],
   "source": [
    "# ── Global visualisation configuration ──────────────────────────────────────\n",
    "\n",
    "# 1.  General Matplotlib defaults\n",
    "# ── Global visualisation configuration ──────────────────────────────────────\n",
    "import matplotlib as mpl\n",
    "import seaborn as sns\n",
    "\n",
    "mpl.rcParams.update(\n",
    "    {\n",
    "        # ── Canvas size & resolution ───────────────────────────────────────────\n",
    "        # Default figure size: 12×8 inches  →  4800×3200 px when exported at 400 dpi\n",
    "        \"figure.figsize\": (12, 8),\n",
    "        \"figure.dpi\": 200,  # crisp in-notebook / retina preview\n",
    "        \"savefig.dpi\": 400,  # print-quality PNG/PDF\n",
    "        # ── Fonts ──────────────────────────────────────────────────────────────\n",
    "        \"font.family\": \"sans-serif\",\n",
    "        \"font.sans-serif\": [\"Roboto\", \"DejaVu Sans\", \"Arial\"],\n",
    "        \"axes.titlesize\": 24,\n",
    "        # \"axes.titleweight\": \"bold\",\n",
    "        \"axes.labelsize\": 24,\n",
    "        \"xtick.labelsize\": 14,\n",
    "        \"ytick.labelsize\": 14,\n",
    "        \"legend.fontsize\": 20,\n",
    "        # ── Axis & spine aesthetics ────────────────────────────────────────────\n",
    "        \"axes.spines.top\": False,\n",
    "        \"axes.spines.right\": False,\n",
    "        \"axes.spines.left\": True,\n",
    "        \"axes.spines.bottom\": True,\n",
    "        \"axes.linewidth\": 1,\n",
    "        \"axes.grid\": True,\n",
    "        \"grid.color\": \"#E6E6E6\",\n",
    "        \"grid.linewidth\": 0.4,\n",
    "        \"grid.alpha\": 0.8,\n",
    "        # ── Colour cycle (colour-blind-safe) ───────────────────────────────────\n",
    "        \"axes.prop_cycle\": mpl.cycler(color=sns.color_palette(\"Set2\")),\n",
    "        # ── Figure background ─────────────────────────────────────────────────\n",
    "        \"figure.facecolor\": \"white\",\n",
    "    }\n",
    ")\n",
    "\n",
    "# Seaborn theme inherits the rcParams above\n",
    "sns.set_theme(context=\"talk\", style=\"whitegrid\", palette=\"Set2\")\n",
    "\n",
    "\n",
    "# 2.  Seaborn theme (inherits Matplotlib rcParams)\n",
    "sns.set_theme(\n",
    "    context=\"talk\",  # slightly larger fonts for presentations / papers\n",
    "    style=\"whitegrid\",  # grid only on y-axis (good for histograms)\n",
    "    palette=\"Set2\",  # matches the rcParams colour cycle\n",
    ")\n",
    "\n",
    "\n",
    "# 3.  Helper function for consistent figure export\n",
    "def savefig_nice(fig, filename, *, tight=True, dpi=300, **savefig_kwargs):\n",
    "    \"\"\"Save figure with tight layout and correct DPI.\"\"\"\n",
    "    if tight:\n",
    "        fig.tight_layout()\n",
    "    fig.savefig(filename, dpi=dpi, bbox_inches=\"tight\", transparent=True, **savefig_kwargs)\n",
    "\n",
    "\n",
    "# 4.  Colour constants for this project (optional convenience)\n",
    "COL_RAW = \"#1f77b4\"  # e.g. unweighted sample\n",
    "COL_WEIGHTED = \"#d62728\"  # weighted sample\n",
    "COL_REF = \"0.35\"  # census reference (neutral grey)"
   ]
  },
  {
   "cell_type": "code",
   "execution_count": 16,
   "id": "94f191cf",
   "metadata": {},
   "outputs": [
    {
     "data": {
      "image/png": "[encoded data removed]",
      "text/plain": [
       "<Figure size 2000x1200 with 1 Axes>"
      ]
     },
     "metadata": {},
     "output_type": "display_data"
    }
   ],
   "source": [
    "import seaborn as sns\n",
    "import matplotlib.pyplot as plt\n",
    "\n",
    "# plt.style.use(\"seaborn-v0_8-whitegrid\")\n",
    "\n",
    "fig, ax = plt.subplots(figsize=(10, 6))\n",
    "sns.boxplot(\n",
    "    data=df[df[\"tag\"].str.contains(\"4\") == False],\n",
    "    x=\"tag\",\n",
    "    y=\"assessment_score\",\n",
    "    # hue=\"is_prock\",\n",
    ")\n",
    "plt.xticks(rotation=45)\n",
    "plt.title(\"Assessment Scores by Tag\")\n",
    "plt.xlabel(\"Tag\")\n",
    "plt.ylabel(\"Assessment Score\")\n",
    "plt.tight_layout()"
   ]
  },
  {
   "cell_type": "code",
   "execution_count": null,
   "id": "024d49d3",
   "metadata": {},
   "outputs": [],
   "source": []
  }
 ],
 "metadata": {
  "kernelspec": {
   "display_name": "venv",
   "language": "python",
   "name": "python3"
  },
  "language_info": {
   "codemirror_mode": {
    "name": "ipython",
    "version": 3
   },
   "file_extension": ".py",
   "mimetype": "text/x-python",
   "name": "python",
   "nbconvert_exporter": "python",
   "pygments_lexer": "ipython3",
   "version": "3.12.3"
  }
 },
 "nbformat": 4,
 "nbformat_minor": 5
}
