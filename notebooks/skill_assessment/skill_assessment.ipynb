{
 "cells": [
  {
   "cell_type": "code",
   "execution_count": 1,
   "id": "aead1a0e",
   "metadata": {},
   "outputs": [
    {
     "name": "stderr",
     "output_type": "stream",
     "text": [
      "\u001b[32m2025-09-07 17:57:24.508\u001b[0m | \u001b[1mINFO    \u001b[0m | \u001b[36mathletes_brain.config\u001b[0m:\u001b[36m<module>\u001b[0m:\u001b[36m11\u001b[0m - \u001b[1mPROJ_ROOT path is: /home/galkepler/Projects/athletes_brain\u001b[0m\n"
     ]
    }
   ],
   "source": [
    "import pandas as pd\n",
    "from pathlib import Path\n",
    "from athletes_brain.config import EXTERNAL_DATA_DIR\n",
    "\n",
    "sessions = pd.read_csv(\"~/Projects/plasticityhub/sessions.csv\")\n",
    "sessions = sessions.sort_values([\"subject_code\", \"session_id\"])\n",
    "sessions[\"session_id\"] = sessions[\"session_id\"].astype(str).str.zfill(12)\n",
    "sessions[\"subject_code\"] = sessions[\"subject_code\"].apply(\n",
    "    lambda x: x.replace(\"-\", \"\")\n",
    "    .replace(\"_\", \"\")\n",
    "    .replace(\" \", \"\")\n",
    "    .replace(\"\\t\", \"\")\n",
    "    .replace(\"\\n\", \"\")\n",
    "    .replace(\"MֹC\", \"MC\")\n",
    ")\n",
    "sessions = sessions[sessions[\"subject_code\"] != \"0000\"]\n",
    "# sessions[\"exercise_frequency\"] = sessions[\"exercise_frequency\"].replace(\n",
    "#     {\"\": pd.NA, \"1-2\": 1.5, \"3-4\": 3.5, \"5+\": 5}\n",
    "#     ).astype(float)\n",
    "# drop duplicated indices\n",
    "# d = d[~d.index.duplicated(keep=\"first\")]\n",
    "sessions[\"timestamp\"] = pd.to_datetime(sessions[\"session_id\"], format=\"%Y%m%d%H%M%S\")"
   ]
  },
  {
   "cell_type": "code",
   "execution_count": 14,
   "id": "0380f32f",
   "metadata": {},
   "outputs": [
    {
     "data": {
      "application/vnd.microsoft.datawrangler.viewer.v0+json": {
       "columns": [
        {
         "name": "group",
         "rawType": "object",
         "type": "string"
        },
        {
         "name": "count",
         "rawType": "int64",
         "type": "integer"
        }
       ],
       "ref": "1155e919-501e-41a3-bed9-0f2d843dd415",
       "rows": [
        [
         "Climbing",
         "76"
        ],
        [
         "Bjj",
         "36"
        ]
       ],
       "shape": {
        "columns": 1,
        "rows": 2
       }
      },
      "text/plain": [
       "group\n",
       "Climbing    76\n",
       "Bjj         36\n",
       "Name: count, dtype: int64"
      ]
     },
     "execution_count": 14,
     "metadata": {},
     "output_type": "execute_result"
    }
   ],
   "source": [
    "s = sessions[(~sessions[\"condition\"].str.lower().isin([\"learning\",\"novice control\"])) & (sessions[\"group\"].str.lower().isin([\"bjj\",\"climbing\"]))]\n",
    "repeated = s[s.duplicated(subset=[\"subject_code\"], keep=False)].copy()\n",
    "# repeated[\"condition\"].unique()\n",
    "repeated.drop_duplicates(subset=\"subject_code\",keep=\"first\")[\"group\"].value_counts()"
   ]
  },
  {
   "cell_type": "code",
   "execution_count": 24,
   "id": "71808098",
   "metadata": {},
   "outputs": [],
   "source": [
    "assessment_df = pd.read_csv(EXTERNAL_DATA_DIR / \"skill_assessment_new.csv\")\n",
    "assessment_df = assessment_df.rename(\n",
    "    columns={\n",
    "        \"Participant\": \"subject_code\",\n",
    "        \"Session Score\": \"score\",\n",
    "        \"Session Timestamp\": \"timestamp\",\n",
    "        \"Climbing Gym\": \"gym\",\n",
    "        \"Timestamp\": \"timestamp\",\n",
    "    }\n",
    ")\n",
    "assessment_df[\"subject_code\"] = (\n",
    "    assessment_df[\"subject_code\"]\n",
    "    .apply(\n",
    "        lambda x: x.replace(\"-\", \"\")\n",
    "        .replace(\"_\", \"\")\n",
    "        .replace(\" \", \"\")\n",
    "        .replace(\"\\t\", \"\")\n",
    "        .replace(\"\\n\", \"\")\n",
    "    )\n",
    "    .str.zfill(4)\n",
    ")\n",
    "\n",
    "assessment_df[\"timestamp\"] = pd.to_datetime(assessment_df[\"timestamp\"], errors=\"coerce\")"
   ]
  },
  {
   "cell_type": "code",
   "execution_count": 25,
   "id": "2c1cea3c",
   "metadata": {},
   "outputs": [
    {
     "data": {
      "application/vnd.microsoft.datawrangler.viewer.v0+json": {
       "columns": [
        {
         "name": "index",
         "rawType": "int64",
         "type": "integer"
        },
        {
         "name": "subject_code",
         "rawType": "object",
         "type": "string"
        },
        {
         "name": "timestamp",
         "rawType": "datetime64[ns]",
         "type": "datetime"
        },
        {
         "name": "gym",
         "rawType": "object",
         "type": "string"
        },
        {
         "name": "score",
         "rawType": "float64",
         "type": "float"
        }
       ],
       "ref": "4a93c00b-bd64-4c74-973f-a8ac33877488",
       "rows": [
        [
         "0",
         "CLMC4",
         "2025-07-23 12:08:12",
         "הבלוק",
         "24.9"
        ],
        [
         "1",
         "0374",
         "2022-03-24 12:56:59",
         "פרפורמנס רוק תא",
         "43.21"
        ],
        [
         "2",
         "0386",
         "2025-08-07 20:39:25",
         "פרפורמנס רוק תא",
         "18.6"
        ],
        [
         "3",
         "0401",
         "2022-06-02 11:01:16",
         "פרפורמנס רוק תא",
         "15.47"
        ],
        [
         "4",
         "0401",
         "2025-09-04 20:53:56",
         "פרפורמנס רוק תא",
         "12.67"
        ],
        [
         "5",
         "0418",
         "2025-08-12 14:41:18",
         "ויקינג תל אביב",
         "36.5"
        ],
        [
         "6",
         "0433",
         "2022-07-08 16:05:33",
         "ונגה",
         "12.75"
        ],
        [
         "7",
         "0475",
         "2022-04-20 16:38:17",
         "פרפורמנס רוק תא",
         "78.0"
        ],
        [
         "8",
         "0480",
         "2025-08-12 15:46:07",
         "הבלוק",
         "23.97"
        ],
        [
         "9",
         "0492",
         "2022-02-02 19:26:37",
         "בולדרלנד",
         "36.5"
        ],
        [
         "10",
         "0492",
         "2025-07-16 17:17:48",
         "ונגה פ\"ת",
         "23.87"
        ],
        [
         "11",
         "0493",
         "2022-06-22 23:40:37",
         "ונגה",
         "16.6"
        ],
        [
         "12",
         "0493",
         "2025-08-12 16:20:06",
         "ויקינג תל אביב",
         "25.7"
        ],
        [
         "13",
         "0495",
         "2022-03-29 16:44:37",
         "טיפוס אורבני ירושלים",
         "17.61"
        ],
        [
         "14",
         "0504",
         "2022-06-07 14:18:15",
         "מאנקיז",
         "22.72"
        ],
        [
         "15",
         "0504",
         "2025-07-24 10:25:57",
         "אייזק ת\"א",
         "43.75"
        ],
        [
         "16",
         "0554",
         "2022-03-24 12:55:50",
         "פרפורמנס רוק תא",
         "51.27"
        ],
        [
         "17",
         "0577",
         "2022-02-26 19:30:05",
         "מאנקיז",
         "18.17"
        ],
        [
         "18",
         "0587",
         "2022-06-26 14:16:39",
         "פרפורמנס רוק בש",
         "17.35"
        ],
        [
         "19",
         "0591",
         "2022-02-16 14:43:45",
         "פרפורמנס רוק תא",
         "24.23"
        ],
        [
         "20",
         "0594",
         "2022-03-30 12:35:50",
         "בולדר חיפה",
         "20.0"
        ],
        [
         "21",
         "0604",
         "2022-02-10 21:46:52",
         "פרפורמנס רוק תא",
         "4.49"
        ],
        [
         "22",
         "0604",
         "2022-03-17 14:31:02",
         "פרפורמנס רוק תא",
         "6.27"
        ],
        [
         "23",
         "0604",
         "2022-05-08 10:27:07",
         "פרפורמנס רוק תא",
         "5.78"
        ],
        [
         "24",
         "0609",
         "2022-02-10 21:18:16",
         "פרפורמנס רוק תא",
         "6.72"
        ],
        [
         "25",
         "0609",
         "2022-03-14 22:52:53",
         "פרפורמנס רוק תא",
         "8.43"
        ],
        [
         "26",
         "0609",
         "2022-04-14 16:29:06",
         "פרפורמנס רוק תא",
         "12.53"
        ],
        [
         "27",
         "0610",
         "2022-02-10 21:22:01",
         "פרפורמנס רוק תא",
         "4.7"
        ],
        [
         "28",
         "0610",
         "2022-03-14 21:56:57",
         "פרפורמנס רוק תא",
         "7.09"
        ],
        [
         "29",
         "0610",
         "2022-05-14 19:27:55",
         "פרפורמנס רוק תא",
         "11.25"
        ],
        [
         "30",
         "0611",
         "2022-02-16 21:02:02",
         "פרפורמנס רוק תא",
         "4.92"
        ],
        [
         "31",
         "0611",
         "2022-03-14 21:44:33",
         "פרפורמנס רוק תא",
         "8.38"
        ],
        [
         "32",
         "0611",
         "2022-05-29 21:40:43",
         "פרפורמנס רוק תא",
         "12.28"
        ],
        [
         "33",
         "0612",
         "2022-02-10 21:23:10",
         "פרפורמנס רוק תא",
         "1.19"
        ],
        [
         "34",
         "0612",
         "2022-03-14 21:56:01",
         "פרפורמנס רוק תא",
         "5.18"
        ],
        [
         "35",
         "0612",
         "2022-05-14 19:05:10",
         "פרפורמנס רוק תא",
         "6.52"
        ],
        [
         "36",
         "0613",
         "2022-02-10 21:45:59",
         "פרפורמנס רוק תא",
         "2.25"
        ],
        [
         "37",
         "0614",
         "2022-04-05 11:45:01",
         "פרפורמנס רוק תא",
         "6.25"
        ],
        [
         "38",
         "0614",
         "2022-05-29 22:26:30",
         "פרפורמנס רוק תא",
         "6.95"
        ],
        [
         "39",
         "0615",
         "2022-02-10 21:47:34",
         "פרפורמנס רוק תא",
         "3.04"
        ],
        [
         "40",
         "0615",
         "2022-03-20 14:55:15",
         "פרפורמנס רוק תא",
         "5.33"
        ],
        [
         "41",
         "0615",
         "2022-04-24 18:08:26",
         "פרפורמנס רוק תא",
         "7.02"
        ],
        [
         "42",
         "0618",
         "2022-02-10 21:17:55",
         "פרפורמנס רוק תא",
         "4.42"
        ],
        [
         "43",
         "0618",
         "2022-03-14 21:43:21",
         "פרפורמנס רוק תא",
         "3.69"
        ],
        [
         "44",
         "0618",
         "2022-05-07 11:03:04",
         "פרפורמנס רוק תא",
         "8.67"
        ],
        [
         "45",
         "0623",
         "2022-05-03 09:21:50",
         "פרפורמנס רוק תא",
         "13.51"
        ],
        [
         "46",
         "0624",
         "2022-02-10 21:18:13",
         "פרפורמנס רוק תא",
         "6.25"
        ],
        [
         "47",
         "0624",
         "2022-03-31 18:30:09",
         "פרפורמנס רוק תא",
         "11.05"
        ],
        [
         "48",
         "0624",
         "2022-05-13 14:53:40",
         "פרפורמנס רוק תא",
         "14.25"
        ],
        [
         "49",
         "0625",
         "2022-02-10 21:18:15",
         "פרפורמנס רוק תא",
         "5.55"
        ]
       ],
       "shape": {
        "columns": 4,
        "rows": 398
       }
      },
      "text/html": [
       "<div>\n",
       "<style scoped>\n",
       "    .dataframe tbody tr th:only-of-type {\n",
       "        vertical-align: middle;\n",
       "    }\n",
       "\n",
       "    .dataframe tbody tr th {\n",
       "        vertical-align: top;\n",
       "    }\n",
       "\n",
       "    .dataframe thead th {\n",
       "        text-align: right;\n",
       "    }\n",
       "</style>\n",
       "<table border=\"1\" class=\"dataframe\">\n",
       "  <thead>\n",
       "    <tr style=\"text-align: right;\">\n",
       "      <th></th>\n",
       "      <th>subject_code</th>\n",
       "      <th>timestamp</th>\n",
       "      <th>gym</th>\n",
       "      <th>score</th>\n",
       "    </tr>\n",
       "  </thead>\n",
       "  <tbody>\n",
       "    <tr>\n",
       "      <th>0</th>\n",
       "      <td>CLMC4</td>\n",
       "      <td>2025-07-23 12:08:12</td>\n",
       "      <td>הבלוק</td>\n",
       "      <td>24.90</td>\n",
       "    </tr>\n",
       "    <tr>\n",
       "      <th>1</th>\n",
       "      <td>0374</td>\n",
       "      <td>2022-03-24 12:56:59</td>\n",
       "      <td>פרפורמנס רוק תא</td>\n",
       "      <td>43.21</td>\n",
       "    </tr>\n",
       "    <tr>\n",
       "      <th>2</th>\n",
       "      <td>0386</td>\n",
       "      <td>2025-08-07 20:39:25</td>\n",
       "      <td>פרפורמנס רוק תא</td>\n",
       "      <td>18.60</td>\n",
       "    </tr>\n",
       "    <tr>\n",
       "      <th>3</th>\n",
       "      <td>0401</td>\n",
       "      <td>2022-06-02 11:01:16</td>\n",
       "      <td>פרפורמנס רוק תא</td>\n",
       "      <td>15.47</td>\n",
       "    </tr>\n",
       "    <tr>\n",
       "      <th>4</th>\n",
       "      <td>0401</td>\n",
       "      <td>2025-09-04 20:53:56</td>\n",
       "      <td>פרפורמנס רוק תא</td>\n",
       "      <td>12.67</td>\n",
       "    </tr>\n",
       "    <tr>\n",
       "      <th>...</th>\n",
       "      <td>...</td>\n",
       "      <td>...</td>\n",
       "      <td>...</td>\n",
       "      <td>...</td>\n",
       "    </tr>\n",
       "    <tr>\n",
       "      <th>393</th>\n",
       "      <td>CLMP7</td>\n",
       "      <td>2024-08-23 11:41:13</td>\n",
       "      <td>קמפוס</td>\n",
       "      <td>29.25</td>\n",
       "    </tr>\n",
       "    <tr>\n",
       "      <th>394</th>\n",
       "      <td>CLMP7</td>\n",
       "      <td>2024-11-22 11:15:46</td>\n",
       "      <td>קמפוס</td>\n",
       "      <td>45.78</td>\n",
       "    </tr>\n",
       "    <tr>\n",
       "      <th>395</th>\n",
       "      <td>CLMP8</td>\n",
       "      <td>2024-09-17 17:01:56</td>\n",
       "      <td>אייזק ת\"א</td>\n",
       "      <td>70.72</td>\n",
       "    </tr>\n",
       "    <tr>\n",
       "      <th>396</th>\n",
       "      <td>CLMP9</td>\n",
       "      <td>2024-12-23 21:47:20</td>\n",
       "      <td>ונגה פ\"ת</td>\n",
       "      <td>32.15</td>\n",
       "    </tr>\n",
       "    <tr>\n",
       "      <th>397</th>\n",
       "      <td>CLMP9</td>\n",
       "      <td>2025-06-29 16:43:39</td>\n",
       "      <td>ונגה פ\"ת</td>\n",
       "      <td>37.06</td>\n",
       "    </tr>\n",
       "  </tbody>\n",
       "</table>\n",
       "<p>398 rows × 4 columns</p>\n",
       "</div>"
      ],
      "text/plain": [
       "    subject_code           timestamp              gym  score\n",
       "0          CLMC4 2025-07-23 12:08:12            הבלוק  24.90\n",
       "1           0374 2022-03-24 12:56:59  פרפורמנס רוק תא  43.21\n",
       "2           0386 2025-08-07 20:39:25  פרפורמנס רוק תא  18.60\n",
       "3           0401 2022-06-02 11:01:16  פרפורמנס רוק תא  15.47\n",
       "4           0401 2025-09-04 20:53:56  פרפורמנס רוק תא  12.67\n",
       "..           ...                 ...              ...    ...\n",
       "393        CLMP7 2024-08-23 11:41:13            קמפוס  29.25\n",
       "394        CLMP7 2024-11-22 11:15:46            קמפוס  45.78\n",
       "395        CLMP8 2024-09-17 17:01:56        אייזק ת\"א  70.72\n",
       "396        CLMP9 2024-12-23 21:47:20         ונגה פ\"ת  32.15\n",
       "397        CLMP9 2025-06-29 16:43:39         ונגה פ\"ת  37.06\n",
       "\n",
       "[398 rows x 4 columns]"
      ]
     },
     "execution_count": 25,
     "metadata": {},
     "output_type": "execute_result"
    }
   ],
   "source": [
    "assessment_df"
   ]
  },
  {
   "cell_type": "code",
   "execution_count": 22,
   "id": "a7f03f3e",
   "metadata": {},
   "outputs": [],
   "source": [
    "climbers = sessions[(sessions[\"group\"] == \"Climbing\") & (sessions[\"condition\"] != \"Learning\")]\n",
    "qa_df = pd.DataFrame(\n",
    "    columns=[\"subject_code\", \"subject_id\", \"n_scanning_sessions\", \"n_assessment_sessions\"]\n",
    ")\n",
    "for subject_code, group in climbers.groupby(\"subject_code\"):\n",
    "    n_scanning_sessions = group.shape[0]\n",
    "    n_assessment_sessions = assessment_df[assessment_df[\"subject_code\"] == subject_code].shape[0]\n",
    "    subject_id = str(group[\"subject_id\"].iloc[0]).zfill(9)\n",
    "    qa_df.loc[len(qa_df)] = [subject_code, subject_id, n_scanning_sessions, n_assessment_sessions]"
   ]
  },
  {
   "cell_type": "code",
   "execution_count": 23,
   "id": "4bdcbab2",
   "metadata": {},
   "outputs": [
    {
     "name": "stdout",
     "output_type": "stream",
     "text": [
      "Number of climbers: 90\n"
     ]
    }
   ],
   "source": [
    "print(f\"Number of climbers: {len(qa_df)}\")\n",
    "qa_df.to_csv(\"/home/galkepler/Downloads/control_climbers_to_contact.csv\", index=False)\n",
    "# qa_d"
   ]
  },
  {
   "cell_type": "code",
   "execution_count": 26,
   "id": "f3fe58ea",
   "metadata": {},
   "outputs": [],
   "source": [
    "df = pd.DataFrame(\n",
    "    columns=sessions.columns.tolist()\n",
    "    + [\"assessment_timestamp\", \"assessment_gym\", \"assessment_score\"]\n",
    ")\n",
    "\n",
    "ind = 0\n",
    "\n",
    "for i, row in assessment_df.iterrows():\n",
    "    subject = row[\"subject_code\"]\n",
    "    session = row[\"timestamp\"]\n",
    "    if subject not in sessions[\"subject_code\"].values:\n",
    "        print(f\"Subject {subject} not found in sessions.\")\n",
    "        continue\n",
    "    subject_data = sessions.loc[sessions[\"subject_code\"] == subject]\n",
    "    # find the closest session to the assessment timestamp\n",
    "    closest_session = subject_data.iloc[(subject_data[\"timestamp\"] - session).abs().argsort()[:1]]\n",
    "    if closest_session.empty:\n",
    "        print(f\"No sessions found for subject {subject} at {session}.\")\n",
    "        continue\n",
    "    closest_session = closest_session.iloc[0]\n",
    "    for col in df.columns:\n",
    "        if col in closest_session:\n",
    "            df.at[ind, col] = closest_session[col]\n",
    "    df.at[ind, \"assessment_timestamp\"] = row[\"timestamp\"]\n",
    "    df.at[ind, \"assessment_gym\"] = row[\"gym\"]\n",
    "    df.at[ind, \"assessment_score\"] = row[\"score\"]\n",
    "    ind += 1\n",
    "\n",
    "df[\"study\"] = \"Sport\"\n",
    "df[\"group\"] = \"Climbing\"\n",
    "df = df.rename(columns={\"session_id\": \"scanning_session_id\", \"timestamp\": \"scanning_timestamp\"})"
   ]
  },
  {
   "cell_type": "code",
   "execution_count": 27,
   "id": "2e707588",
   "metadata": {},
   "outputs": [],
   "source": [
    "# keep only participants with more than one session\n",
    "df_repeated = df[\n",
    "    df[\"subject_code\"].isin(\n",
    "        df[\"subject_code\"].value_counts()[df[\"subject_code\"].value_counts() > 1].index\n",
    "    )\n",
    "]"
   ]
  },
  {
   "cell_type": "code",
   "execution_count": 28,
   "id": "c7ffc7de",
   "metadata": {},
   "outputs": [],
   "source": [
    "df_repeated.to_csv(EXTERNAL_DATA_DIR / \"sessions_climbing.csv\", index=False)"
   ]
  },
  {
   "cell_type": "code",
   "execution_count": 29,
   "id": "f0d5df6a",
   "metadata": {},
   "outputs": [],
   "source": [
    "# Tag session numbers (1, 2, 3, ...) for each subject\n",
    "df[\"session_number\"] = df.groupby(\"subject_code\").cumcount() + 1\n",
    "\n",
    "# df.drop_duplicates(subset=\"subject_code\",keep=\"first\").groupby([\"condition\"]).count()\n",
    "# df_repeated.drop_duplicates(subset=\"subject_code\", keep=\"first\")\n",
    "# df[\"subject_code\"].value_counts()\n",
    "df_repeated.drop(\n",
    "    columns=[\"scanning_timestamp\", \"path\", \"study\", \"group\", \"scanning_session_id\", \"subject_id\"]\n",
    ").to_csv(EXTERNAL_DATA_DIR / \"climbing_sessions.csv\", index=False)"
   ]
  },
  {
   "cell_type": "code",
   "execution_count": 30,
   "id": "a7731f19",
   "metadata": {},
   "outputs": [
    {
     "data": {
      "application/vnd.microsoft.datawrangler.viewer.v0+json": {
       "columns": [
        {
         "name": "index",
         "rawType": "int64",
         "type": "integer"
        },
        {
         "name": "subject_code",
         "rawType": "object",
         "type": "string"
        },
        {
         "name": "subject_id",
         "rawType": "object",
         "type": "unknown"
        },
        {
         "name": "dob",
         "rawType": "object",
         "type": "string"
        },
        {
         "name": "age_at_scan",
         "rawType": "object",
         "type": "unknown"
        },
        {
         "name": "sex",
         "rawType": "object",
         "type": "string"
        },
        {
         "name": "scanning_session_id",
         "rawType": "object",
         "type": "string"
        },
        {
         "name": "study",
         "rawType": "object",
         "type": "string"
        },
        {
         "name": "group",
         "rawType": "object",
         "type": "string"
        },
        {
         "name": "condition",
         "rawType": "object",
         "type": "string"
        },
        {
         "name": "path",
         "rawType": "object",
         "type": "string"
        },
        {
         "name": "weight",
         "rawType": "object",
         "type": "unknown"
        },
        {
         "name": "height",
         "rawType": "object",
         "type": "unknown"
        },
        {
         "name": "filled",
         "rawType": "object",
         "type": "unknown"
        },
        {
         "name": "version",
         "rawType": "object",
         "type": "unknown"
        },
        {
         "name": "handedness",
         "rawType": "object",
         "type": "string"
        },
        {
         "name": "gender",
         "rawType": "object",
         "type": "string"
        },
        {
         "name": "sexual_orientation",
         "rawType": "object",
         "type": "string"
        },
        {
         "name": "living_environment",
         "rawType": "object",
         "type": "string"
        },
        {
         "name": "years_in_residence",
         "rawType": "object",
         "type": "unknown"
        },
        {
         "name": "marital_status",
         "rawType": "object",
         "type": "string"
        },
        {
         "name": "relationship_duration",
         "rawType": "object",
         "type": "unknown"
        },
        {
         "name": "number_of_children",
         "rawType": "object",
         "type": "unknown"
        },
        {
         "name": "number_of_siblings",
         "rawType": "object",
         "type": "unknown"
        },
        {
         "name": "sibling_order",
         "rawType": "object",
         "type": "unknown"
        },
        {
         "name": "twins",
         "rawType": "object",
         "type": "unknown"
        },
        {
         "name": "ethnic_identity",
         "rawType": "object",
         "type": "string"
        },
        {
         "name": "political_orientation",
         "rawType": "object",
         "type": "string"
        },
        {
         "name": "religion",
         "rawType": "object",
         "type": "unknown"
        },
        {
         "name": "religion_degree",
         "rawType": "object",
         "type": "unknown"
        },
        {
         "name": "family_history",
         "rawType": "object",
         "type": "unknown"
        },
        {
         "name": "blood_sugar",
         "rawType": "object",
         "type": "string"
        },
        {
         "name": "blood_pressure",
         "rawType": "object",
         "type": "string"
        },
        {
         "name": "thyroids",
         "rawType": "object",
         "type": "string"
        },
        {
         "name": "lipids",
         "rawType": "object",
         "type": "string"
        },
        {
         "name": "severe_health_conditions",
         "rawType": "object",
         "type": "unknown"
        },
        {
         "name": "major_health_conditions",
         "rawType": "object",
         "type": "unknown"
        },
        {
         "name": "minor_health_conditions",
         "rawType": "object",
         "type": "unknown"
        },
        {
         "name": "brain_health",
         "rawType": "object",
         "type": "unknown"
        },
        {
         "name": "depression",
         "rawType": "object",
         "type": "unknown"
        },
        {
         "name": "anxiety",
         "rawType": "object",
         "type": "unknown"
        },
        {
         "name": "communication_disorders",
         "rawType": "object",
         "type": "unknown"
        },
        {
         "name": "attention_disorders",
         "rawType": "object",
         "type": "unknown"
        },
        {
         "name": "visual_aid",
         "rawType": "object",
         "type": "unknown"
        },
        {
         "name": "hearing_aid",
         "rawType": "object",
         "type": "unknown"
        },
        {
         "name": "psqi",
         "rawType": "object",
         "type": "unknown"
        },
        {
         "name": "long_covid",
         "rawType": "object",
         "type": "unknown"
        },
        {
         "name": "oasis",
         "rawType": "object",
         "type": "unknown"
        },
        {
         "name": "pcl5",
         "rawType": "object",
         "type": "unknown"
        },
        {
         "name": "gad7",
         "rawType": "object",
         "type": "unknown"
        },
        {
         "name": "phq9",
         "rawType": "object",
         "type": "unknown"
        },
        {
         "name": "b5_extraversion",
         "rawType": "object",
         "type": "unknown"
        },
        {
         "name": "b5_agreeableness",
         "rawType": "object",
         "type": "unknown"
        },
        {
         "name": "b5_conscientiousness",
         "rawType": "object",
         "type": "unknown"
        },
        {
         "name": "b5_emotional_stability",
         "rawType": "object",
         "type": "unknown"
        },
        {
         "name": "b5_openness",
         "rawType": "object",
         "type": "unknown"
        },
        {
         "name": "hli",
         "rawType": "object",
         "type": "unknown"
        },
        {
         "name": "swls",
         "rawType": "object",
         "type": "unknown"
        },
        {
         "name": "education_level",
         "rawType": "object",
         "type": "string"
        },
        {
         "name": "salary",
         "rawType": "object",
         "type": "unknown"
        },
        {
         "name": "psychometric_score",
         "rawType": "object",
         "type": "unknown"
        },
        {
         "name": "main_hobby",
         "rawType": "object",
         "type": "unknown"
        },
        {
         "name": "hobby_time",
         "rawType": "object",
         "type": "unknown"
        },
        {
         "name": "weekly_workouts",
         "rawType": "object",
         "type": "unknown"
        },
        {
         "name": "training_alone",
         "rawType": "object",
         "type": "unknown"
        },
        {
         "name": "takeout_frequency",
         "rawType": "object",
         "type": "unknown"
        },
        {
         "name": "dine_out_frequency",
         "rawType": "object",
         "type": "unknown"
        },
        {
         "name": "caffeine",
         "rawType": "object",
         "type": "unknown"
        },
        {
         "name": "water",
         "rawType": "object",
         "type": "unknown"
        },
        {
         "name": "sugar_beverages",
         "rawType": "object",
         "type": "unknown"
        },
        {
         "name": "alcohol",
         "rawType": "object",
         "type": "unknown"
        },
        {
         "name": "nutrition",
         "rawType": "object",
         "type": "string"
        },
        {
         "name": "smoking",
         "rawType": "object",
         "type": "unknown"
        },
        {
         "name": "cannabis",
         "rawType": "object",
         "type": "unknown"
        },
        {
         "name": "other_drugs",
         "rawType": "object",
         "type": "unknown"
        },
        {
         "name": "smoke_frequency_per_day",
         "rawType": "object",
         "type": "unknown"
        },
        {
         "name": "canabis_frequency_per_week",
         "rawType": "object",
         "type": "unknown"
        },
        {
         "name": "sos_q",
         "rawType": "object",
         "type": "unknown"
        },
        {
         "name": "smartphone_usage",
         "rawType": "object",
         "type": "unknown"
        },
        {
         "name": "has_pet",
         "rawType": "object",
         "type": "string"
        },
        {
         "name": "pet_type",
         "rawType": "object",
         "type": "string"
        },
        {
         "name": "pet_duration",
         "rawType": "object",
         "type": "string"
        },
        {
         "name": "home_cooking_times_per_week",
         "rawType": "object",
         "type": "unknown"
        },
        {
         "name": "recreational_activity_times_per_week",
         "rawType": "object",
         "type": "unknown"
        },
        {
         "name": "working_with_computer_times_per_week",
         "rawType": "object",
         "type": "unknown"
        },
        {
         "name": "screen_time",
         "rawType": "object",
         "type": "unknown"
        },
        {
         "name": "situational_phobia",
         "rawType": "object",
         "type": "unknown"
        },
        {
         "name": "social_phobia",
         "rawType": "object",
         "type": "unknown"
        },
        {
         "name": "animal_based_phobia",
         "rawType": "object",
         "type": "unknown"
        },
        {
         "name": "medical_phobia",
         "rawType": "object",
         "type": "unknown"
        },
        {
         "name": "total_phobia",
         "rawType": "object",
         "type": "unknown"
        },
        {
         "name": "scanning_timestamp",
         "rawType": "object",
         "type": "unknown"
        },
        {
         "name": "assessment_timestamp",
         "rawType": "object",
         "type": "unknown"
        },
        {
         "name": "assessment_gym",
         "rawType": "object",
         "type": "string"
        },
        {
         "name": "assessment_score",
         "rawType": "object",
         "type": "unknown"
        }
       ],
       "ref": "69b5aa2f-ef15-492d-9e73-f3bc84cb3d97",
       "rows": [
        [
         "42",
         "0618",
         "36385151",
         "1979-02-15",
         "42.98",
         "M",
         "202202061629",
         "Sport",
         "Climbing",
         "Learning",
         "/mnt/62/Raw_Data/20220206_1629",
         "77.0",
         "181.0",
         "True",
         null,
         "R",
         "cisgender",
         "heterosexual",
         "City",
         null,
         "in a relationship",
         "10.0",
         "2.0",
         null,
         "1.0",
         null,
         "Ashkenazi Jew",
         "Left",
         null,
         null,
         "0.0",
         "Normal",
         "Normal",
         "Normal",
         "Normal",
         "0.0",
         "0.0",
         null,
         "0.0",
         "False",
         "False",
         "False",
         "False",
         "False",
         "False",
         "1.0",
         "False",
         "1.0",
         null,
         null,
         null,
         "2.88",
         "3.33",
         "3.56",
         "3.63",
         "3.3",
         "20.0",
         null,
         "bachelor's degree",
         "30000.0",
         "765.0",
         null,
         null,
         null,
         null,
         null,
         null,
         "2.0",
         "7.0",
         "2.0",
         "0.0",
         "Omnivore",
         "False",
         "False",
         "False",
         null,
         null,
         null,
         "5.0",
         "past",
         "Dog",
         "5-10 years",
         null,
         null,
         "9.0",
         "3.0",
         "0.0",
         "0.0",
         "0.0",
         "0.0",
         "0.0",
         "2022-02-06 16:02:09",
         "2022-02-10 21:17:55",
         "פרפורמנס רוק תא",
         "4.42"
        ],
        [
         "43",
         "0618",
         "36385151",
         "1979-02-15",
         "43.06",
         "M",
         "202203071404",
         "Sport",
         "Climbing",
         "Learning",
         "/mnt/62/Raw_Data/20220307_1404",
         "77.0",
         "181.0",
         "True",
         null,
         "R",
         "cisgender",
         "heterosexual",
         "City",
         null,
         "in a relationship",
         "10.0",
         "2.0",
         null,
         "1.0",
         null,
         "Ashkenazi Jew",
         "Left",
         null,
         null,
         "0.0",
         "Normal",
         "Normal",
         "Normal",
         "Normal",
         "0.0",
         "0.0",
         null,
         "0.0",
         "False",
         "False",
         "False",
         "False",
         "False",
         "False",
         "1.0",
         "False",
         "1.0",
         null,
         null,
         null,
         "2.88",
         "3.33",
         "3.56",
         "3.63",
         "3.3",
         "20.0",
         null,
         "bachelor's degree",
         "30000.0",
         "765.0",
         null,
         null,
         null,
         null,
         null,
         null,
         "2.0",
         "7.0",
         "2.0",
         "0.0",
         "Omnivore",
         "False",
         "False",
         "False",
         null,
         null,
         null,
         "5.0",
         "past",
         "Dog",
         "5-10 years",
         null,
         null,
         "9.0",
         "3.0",
         "0.0",
         "0.0",
         "0.0",
         "0.0",
         "0.0",
         "2022-03-07 14:00:04",
         "2022-03-14 21:43:21",
         "פרפורמנס רוק תא",
         "3.69"
        ],
        [
         "44",
         "0618",
         "36385151",
         "1979-02-15",
         "43.23",
         "M",
         "202205080832",
         "Sport",
         "Climbing",
         "Learning",
         "/mnt/62/Raw_Data/20220508_0832",
         "77.0",
         "181.0",
         "True",
         null,
         "R",
         "cisgender",
         "heterosexual",
         "City",
         null,
         "in a relationship",
         "10.0",
         "2.0",
         null,
         "1.0",
         null,
         "Ashkenazi Jew",
         "Left",
         null,
         null,
         "0.0",
         "Normal",
         "Normal",
         "Normal",
         "Normal",
         "0.0",
         "0.0",
         null,
         "0.0",
         "False",
         "False",
         "False",
         "False",
         "False",
         "False",
         "1.0",
         "False",
         "1.0",
         null,
         null,
         null,
         "2.88",
         "3.33",
         "3.56",
         "3.63",
         "3.3",
         "20.0",
         null,
         "bachelor's degree",
         "30000.0",
         "765.0",
         null,
         null,
         null,
         null,
         null,
         null,
         "2.0",
         "7.0",
         "2.0",
         "0.0",
         "Omnivore",
         "False",
         "False",
         "False",
         null,
         null,
         null,
         "5.0",
         "past",
         "Dog",
         "5-10 years",
         null,
         null,
         "9.0",
         "3.0",
         "0.0",
         "0.0",
         "0.0",
         "0.0",
         "0.0",
         "2022-05-08 08:03:02",
         "2022-05-07 11:03:04",
         "פרפורמנס רוק תא",
         "8.67"
        ]
       ],
       "shape": {
        "columns": 94,
        "rows": 3
       }
      },
      "text/html": [
       "<div>\n",
       "<style scoped>\n",
       "    .dataframe tbody tr th:only-of-type {\n",
       "        vertical-align: middle;\n",
       "    }\n",
       "\n",
       "    .dataframe tbody tr th {\n",
       "        vertical-align: top;\n",
       "    }\n",
       "\n",
       "    .dataframe thead th {\n",
       "        text-align: right;\n",
       "    }\n",
       "</style>\n",
       "<table border=\"1\" class=\"dataframe\">\n",
       "  <thead>\n",
       "    <tr style=\"text-align: right;\">\n",
       "      <th></th>\n",
       "      <th>subject_code</th>\n",
       "      <th>subject_id</th>\n",
       "      <th>dob</th>\n",
       "      <th>age_at_scan</th>\n",
       "      <th>sex</th>\n",
       "      <th>scanning_session_id</th>\n",
       "      <th>study</th>\n",
       "      <th>group</th>\n",
       "      <th>condition</th>\n",
       "      <th>path</th>\n",
       "      <th>...</th>\n",
       "      <th>screen_time</th>\n",
       "      <th>situational_phobia</th>\n",
       "      <th>social_phobia</th>\n",
       "      <th>animal_based_phobia</th>\n",
       "      <th>medical_phobia</th>\n",
       "      <th>total_phobia</th>\n",
       "      <th>scanning_timestamp</th>\n",
       "      <th>assessment_timestamp</th>\n",
       "      <th>assessment_gym</th>\n",
       "      <th>assessment_score</th>\n",
       "    </tr>\n",
       "  </thead>\n",
       "  <tbody>\n",
       "    <tr>\n",
       "      <th>42</th>\n",
       "      <td>0618</td>\n",
       "      <td>36385151</td>\n",
       "      <td>1979-02-15</td>\n",
       "      <td>42.98</td>\n",
       "      <td>M</td>\n",
       "      <td>202202061629</td>\n",
       "      <td>Sport</td>\n",
       "      <td>Climbing</td>\n",
       "      <td>Learning</td>\n",
       "      <td>/mnt/62/Raw_Data/20220206_1629</td>\n",
       "      <td>...</td>\n",
       "      <td>3.0</td>\n",
       "      <td>0.0</td>\n",
       "      <td>0.0</td>\n",
       "      <td>0.0</td>\n",
       "      <td>0.0</td>\n",
       "      <td>0.0</td>\n",
       "      <td>2022-02-06 16:02:09</td>\n",
       "      <td>2022-02-10 21:17:55</td>\n",
       "      <td>פרפורמנס רוק תא</td>\n",
       "      <td>4.42</td>\n",
       "    </tr>\n",
       "    <tr>\n",
       "      <th>43</th>\n",
       "      <td>0618</td>\n",
       "      <td>36385151</td>\n",
       "      <td>1979-02-15</td>\n",
       "      <td>43.06</td>\n",
       "      <td>M</td>\n",
       "      <td>202203071404</td>\n",
       "      <td>Sport</td>\n",
       "      <td>Climbing</td>\n",
       "      <td>Learning</td>\n",
       "      <td>/mnt/62/Raw_Data/20220307_1404</td>\n",
       "      <td>...</td>\n",
       "      <td>3.0</td>\n",
       "      <td>0.0</td>\n",
       "      <td>0.0</td>\n",
       "      <td>0.0</td>\n",
       "      <td>0.0</td>\n",
       "      <td>0.0</td>\n",
       "      <td>2022-03-07 14:00:04</td>\n",
       "      <td>2022-03-14 21:43:21</td>\n",
       "      <td>פרפורמנס רוק תא</td>\n",
       "      <td>3.69</td>\n",
       "    </tr>\n",
       "    <tr>\n",
       "      <th>44</th>\n",
       "      <td>0618</td>\n",
       "      <td>36385151</td>\n",
       "      <td>1979-02-15</td>\n",
       "      <td>43.23</td>\n",
       "      <td>M</td>\n",
       "      <td>202205080832</td>\n",
       "      <td>Sport</td>\n",
       "      <td>Climbing</td>\n",
       "      <td>Learning</td>\n",
       "      <td>/mnt/62/Raw_Data/20220508_0832</td>\n",
       "      <td>...</td>\n",
       "      <td>3.0</td>\n",
       "      <td>0.0</td>\n",
       "      <td>0.0</td>\n",
       "      <td>0.0</td>\n",
       "      <td>0.0</td>\n",
       "      <td>0.0</td>\n",
       "      <td>2022-05-08 08:03:02</td>\n",
       "      <td>2022-05-07 11:03:04</td>\n",
       "      <td>פרפורמנס רוק תא</td>\n",
       "      <td>8.67</td>\n",
       "    </tr>\n",
       "  </tbody>\n",
       "</table>\n",
       "<p>3 rows × 94 columns</p>\n",
       "</div>"
      ],
      "text/plain": [
       "   subject_code subject_id         dob age_at_scan sex scanning_session_id  \\\n",
       "42         0618   36385151  1979-02-15       42.98   M        202202061629   \n",
       "43         0618   36385151  1979-02-15       43.06   M        202203071404   \n",
       "44         0618   36385151  1979-02-15       43.23   M        202205080832   \n",
       "\n",
       "    study     group condition                            path  ...  \\\n",
       "42  Sport  Climbing  Learning  /mnt/62/Raw_Data/20220206_1629  ...   \n",
       "43  Sport  Climbing  Learning  /mnt/62/Raw_Data/20220307_1404  ...   \n",
       "44  Sport  Climbing  Learning  /mnt/62/Raw_Data/20220508_0832  ...   \n",
       "\n",
       "   screen_time situational_phobia social_phobia animal_based_phobia  \\\n",
       "42         3.0                0.0           0.0                 0.0   \n",
       "43         3.0                0.0           0.0                 0.0   \n",
       "44         3.0                0.0           0.0                 0.0   \n",
       "\n",
       "   medical_phobia total_phobia   scanning_timestamp assessment_timestamp  \\\n",
       "42            0.0          0.0  2022-02-06 16:02:09  2022-02-10 21:17:55   \n",
       "43            0.0          0.0  2022-03-07 14:00:04  2022-03-14 21:43:21   \n",
       "44            0.0          0.0  2022-05-08 08:03:02  2022-05-07 11:03:04   \n",
       "\n",
       "     assessment_gym assessment_score  \n",
       "42  פרפורמנס רוק תא             4.42  \n",
       "43  פרפורמנס רוק תא             3.69  \n",
       "44  פרפורמנס רוק תא             8.67  \n",
       "\n",
       "[3 rows x 94 columns]"
      ]
     },
     "execution_count": 30,
     "metadata": {},
     "output_type": "execute_result"
    }
   ],
   "source": [
    "df_repeated[df_repeated[\"subject_code\"] == \"0618\"]"
   ]
  },
  {
   "cell_type": "code",
   "execution_count": 31,
   "id": "59fe7810",
   "metadata": {},
   "outputs": [],
   "source": [
    "df[\"tag\"] = df[\"condition\"] + \"-\" + df[\"session_number\"].astype(str)\n",
    "\n",
    "order = [\"Learning\", \"Control\", \"Professional\"]\n",
    "\n",
    "mapping = {}\n",
    "for i, condition in enumerate(order):\n",
    "    for j in range(1, df[\"session_number\"].max() + 1):\n",
    "        mapping[f\"{condition}-{j}\"] = i * 10 + j\n",
    "\n",
    "# sort by learner -> control -> expert and then by session number\n",
    "df = df.sort_values(by=\"tag\", key=lambda x: x.map(mapping))"
   ]
  },
  {
   "cell_type": "code",
   "execution_count": 32,
   "id": "94cbb091",
   "metadata": {},
   "outputs": [
    {
     "data": {
      "application/vnd.microsoft.datawrangler.viewer.v0+json": {
       "columns": [
        {
         "name": "index",
         "rawType": "int64",
         "type": "integer"
        },
        {
         "name": "subject_code",
         "rawType": "object",
         "type": "string"
        },
        {
         "name": "subject_id",
         "rawType": "int64",
         "type": "integer"
        },
        {
         "name": "dob",
         "rawType": "object",
         "type": "string"
        },
        {
         "name": "age_at_scan",
         "rawType": "float64",
         "type": "float"
        },
        {
         "name": "sex",
         "rawType": "object",
         "type": "string"
        },
        {
         "name": "session_id",
         "rawType": "object",
         "type": "string"
        },
        {
         "name": "study",
         "rawType": "object",
         "type": "string"
        },
        {
         "name": "group",
         "rawType": "object",
         "type": "string"
        },
        {
         "name": "condition",
         "rawType": "object",
         "type": "string"
        },
        {
         "name": "path",
         "rawType": "object",
         "type": "string"
        },
        {
         "name": "weight",
         "rawType": "float64",
         "type": "float"
        },
        {
         "name": "height",
         "rawType": "float64",
         "type": "float"
        },
        {
         "name": "filled",
         "rawType": "bool",
         "type": "boolean"
        },
        {
         "name": "version",
         "rawType": "float64",
         "type": "float"
        },
        {
         "name": "handedness",
         "rawType": "object",
         "type": "string"
        },
        {
         "name": "gender",
         "rawType": "object",
         "type": "string"
        },
        {
         "name": "sexual_orientation",
         "rawType": "object",
         "type": "string"
        },
        {
         "name": "living_environment",
         "rawType": "object",
         "type": "string"
        },
        {
         "name": "years_in_residence",
         "rawType": "float64",
         "type": "float"
        },
        {
         "name": "marital_status",
         "rawType": "object",
         "type": "string"
        },
        {
         "name": "relationship_duration",
         "rawType": "float64",
         "type": "float"
        },
        {
         "name": "number_of_children",
         "rawType": "float64",
         "type": "float"
        },
        {
         "name": "number_of_siblings",
         "rawType": "float64",
         "type": "float"
        },
        {
         "name": "sibling_order",
         "rawType": "float64",
         "type": "float"
        },
        {
         "name": "twins",
         "rawType": "object",
         "type": "unknown"
        },
        {
         "name": "ethnic_identity",
         "rawType": "object",
         "type": "string"
        },
        {
         "name": "political_orientation",
         "rawType": "object",
         "type": "unknown"
        },
        {
         "name": "religion",
         "rawType": "object",
         "type": "unknown"
        },
        {
         "name": "religion_degree",
         "rawType": "object",
         "type": "unknown"
        },
        {
         "name": "family_history",
         "rawType": "float64",
         "type": "float"
        },
        {
         "name": "blood_sugar",
         "rawType": "object",
         "type": "string"
        },
        {
         "name": "blood_pressure",
         "rawType": "object",
         "type": "string"
        },
        {
         "name": "thyroids",
         "rawType": "object",
         "type": "string"
        },
        {
         "name": "lipids",
         "rawType": "object",
         "type": "string"
        },
        {
         "name": "severe_health_conditions",
         "rawType": "float64",
         "type": "float"
        },
        {
         "name": "major_health_conditions",
         "rawType": "float64",
         "type": "float"
        },
        {
         "name": "minor_health_conditions",
         "rawType": "float64",
         "type": "float"
        },
        {
         "name": "brain_health",
         "rawType": "float64",
         "type": "float"
        },
        {
         "name": "depression",
         "rawType": "object",
         "type": "unknown"
        },
        {
         "name": "anxiety",
         "rawType": "object",
         "type": "unknown"
        },
        {
         "name": "communication_disorders",
         "rawType": "object",
         "type": "unknown"
        },
        {
         "name": "attention_disorders",
         "rawType": "object",
         "type": "unknown"
        },
        {
         "name": "visual_aid",
         "rawType": "object",
         "type": "unknown"
        },
        {
         "name": "hearing_aid",
         "rawType": "object",
         "type": "unknown"
        },
        {
         "name": "psqi",
         "rawType": "float64",
         "type": "float"
        },
        {
         "name": "long_covid",
         "rawType": "object",
         "type": "unknown"
        },
        {
         "name": "oasis",
         "rawType": "float64",
         "type": "float"
        },
        {
         "name": "pcl5",
         "rawType": "float64",
         "type": "float"
        },
        {
         "name": "gad7",
         "rawType": "float64",
         "type": "float"
        },
        {
         "name": "phq9",
         "rawType": "float64",
         "type": "float"
        },
        {
         "name": "b5_extraversion",
         "rawType": "float64",
         "type": "float"
        },
        {
         "name": "b5_agreeableness",
         "rawType": "float64",
         "type": "float"
        },
        {
         "name": "b5_conscientiousness",
         "rawType": "float64",
         "type": "float"
        },
        {
         "name": "b5_emotional_stability",
         "rawType": "float64",
         "type": "float"
        },
        {
         "name": "b5_openness",
         "rawType": "float64",
         "type": "float"
        },
        {
         "name": "hli",
         "rawType": "float64",
         "type": "float"
        },
        {
         "name": "swls",
         "rawType": "float64",
         "type": "float"
        },
        {
         "name": "education_level",
         "rawType": "object",
         "type": "string"
        },
        {
         "name": "salary",
         "rawType": "float64",
         "type": "float"
        },
        {
         "name": "psychometric_score",
         "rawType": "float64",
         "type": "float"
        },
        {
         "name": "main_hobby",
         "rawType": "object",
         "type": "unknown"
        },
        {
         "name": "hobby_time",
         "rawType": "float64",
         "type": "float"
        },
        {
         "name": "weekly_workouts",
         "rawType": "object",
         "type": "unknown"
        },
        {
         "name": "training_alone",
         "rawType": "object",
         "type": "unknown"
        },
        {
         "name": "takeout_frequency",
         "rawType": "float64",
         "type": "float"
        },
        {
         "name": "dine_out_frequency",
         "rawType": "float64",
         "type": "float"
        },
        {
         "name": "caffeine",
         "rawType": "float64",
         "type": "float"
        },
        {
         "name": "water",
         "rawType": "float64",
         "type": "float"
        },
        {
         "name": "sugar_beverages",
         "rawType": "float64",
         "type": "float"
        },
        {
         "name": "alcohol",
         "rawType": "float64",
         "type": "float"
        },
        {
         "name": "nutrition",
         "rawType": "object",
         "type": "string"
        },
        {
         "name": "smoking",
         "rawType": "object",
         "type": "unknown"
        },
        {
         "name": "cannabis",
         "rawType": "object",
         "type": "unknown"
        },
        {
         "name": "other_drugs",
         "rawType": "object",
         "type": "unknown"
        },
        {
         "name": "smoke_frequency_per_day",
         "rawType": "float64",
         "type": "float"
        },
        {
         "name": "canabis_frequency_per_week",
         "rawType": "float64",
         "type": "float"
        },
        {
         "name": "sos_q",
         "rawType": "float64",
         "type": "float"
        },
        {
         "name": "smartphone_usage",
         "rawType": "float64",
         "type": "float"
        },
        {
         "name": "has_pet",
         "rawType": "object",
         "type": "unknown"
        },
        {
         "name": "pet_type",
         "rawType": "object",
         "type": "unknown"
        },
        {
         "name": "pet_duration",
         "rawType": "object",
         "type": "unknown"
        },
        {
         "name": "home_cooking_times_per_week",
         "rawType": "float64",
         "type": "float"
        },
        {
         "name": "recreational_activity_times_per_week",
         "rawType": "float64",
         "type": "float"
        },
        {
         "name": "working_with_computer_times_per_week",
         "rawType": "float64",
         "type": "float"
        },
        {
         "name": "screen_time",
         "rawType": "float64",
         "type": "float"
        },
        {
         "name": "situational_phobia",
         "rawType": "float64",
         "type": "float"
        },
        {
         "name": "social_phobia",
         "rawType": "float64",
         "type": "float"
        },
        {
         "name": "animal_based_phobia",
         "rawType": "float64",
         "type": "float"
        },
        {
         "name": "medical_phobia",
         "rawType": "float64",
         "type": "float"
        },
        {
         "name": "total_phobia",
         "rawType": "float64",
         "type": "float"
        },
        {
         "name": "timestamp",
         "rawType": "datetime64[ns]",
         "type": "datetime"
        }
       ],
       "ref": "66038e82-a3ff-4307-b5c9-d363514168f3",
       "rows": [
        [
         "665",
         "0504",
         "301046447",
         "1987-08-02",
         "34.16",
         "M",
         "202109291319",
         "Sport",
         "Climbing",
         "Professional",
         "/mnt/62/Raw_Data/20210929_1319",
         "74.0",
         "180.0",
         "True",
         null,
         "R",
         "cisgender",
         "heterosexual",
         "City",
         null,
         "single",
         null,
         "0.0",
         null,
         "1.0",
         null,
         "Mixed Jew",
         null,
         null,
         null,
         "1.0",
         "Not Tested",
         "Not Tested",
         "Not Tested",
         "Not Tested",
         "0.0",
         "0.0",
         null,
         "0.0",
         null,
         null,
         "False",
         "False",
         "False",
         "False",
         "4.0",
         null,
         null,
         null,
         null,
         null,
         "3.75",
         "4.11",
         "4.22",
         "4.63",
         "3.9",
         null,
         null,
         "bachelor's degree",
         "13500.0",
         null,
         null,
         null,
         null,
         null,
         null,
         null,
         "2.0",
         "7.0",
         "0.0",
         "2.0",
         "Permissible",
         "False",
         "False",
         "False",
         null,
         null,
         null,
         null,
         null,
         null,
         null,
         null,
         null,
         "4.0",
         "1.0",
         null,
         null,
         null,
         null,
         null,
         "2021-09-29 13:01:09"
        ],
        [
         "782",
         "0504",
         "301046447",
         "1987-08-02",
         "34.44",
         "M",
         "202201091544",
         "Sport",
         "Climbing",
         "Professional",
         "/mnt/62/Raw_Data/20220109_1544",
         "74.0",
         "180.0",
         "True",
         null,
         "R",
         "cisgender",
         "heterosexual",
         "City",
         null,
         "single",
         null,
         "0.0",
         null,
         "1.0",
         null,
         "Mixed Jew",
         null,
         null,
         null,
         "1.0",
         "Not Tested",
         "Not Tested",
         "Not Tested",
         "Not Tested",
         "0.0",
         "0.0",
         null,
         "0.0",
         null,
         null,
         "False",
         "False",
         "False",
         "False",
         "4.0",
         null,
         null,
         null,
         null,
         null,
         "3.75",
         "4.11",
         "4.22",
         "4.63",
         "3.9",
         null,
         null,
         "bachelor's degree",
         "13500.0",
         null,
         null,
         null,
         null,
         null,
         null,
         null,
         "2.0",
         "7.0",
         "0.0",
         "2.0",
         "Permissible",
         "False",
         "False",
         "False",
         null,
         null,
         null,
         null,
         null,
         null,
         null,
         null,
         null,
         "4.0",
         "1.0",
         null,
         null,
         null,
         null,
         null,
         "2022-01-09 15:04:04"
        ]
       ],
       "shape": {
        "columns": 91,
        "rows": 2
       }
      },
      "text/html": [
       "<div>\n",
       "<style scoped>\n",
       "    .dataframe tbody tr th:only-of-type {\n",
       "        vertical-align: middle;\n",
       "    }\n",
       "\n",
       "    .dataframe tbody tr th {\n",
       "        vertical-align: top;\n",
       "    }\n",
       "\n",
       "    .dataframe thead th {\n",
       "        text-align: right;\n",
       "    }\n",
       "</style>\n",
       "<table border=\"1\" class=\"dataframe\">\n",
       "  <thead>\n",
       "    <tr style=\"text-align: right;\">\n",
       "      <th></th>\n",
       "      <th>subject_code</th>\n",
       "      <th>subject_id</th>\n",
       "      <th>dob</th>\n",
       "      <th>age_at_scan</th>\n",
       "      <th>sex</th>\n",
       "      <th>session_id</th>\n",
       "      <th>study</th>\n",
       "      <th>group</th>\n",
       "      <th>condition</th>\n",
       "      <th>path</th>\n",
       "      <th>...</th>\n",
       "      <th>home_cooking_times_per_week</th>\n",
       "      <th>recreational_activity_times_per_week</th>\n",
       "      <th>working_with_computer_times_per_week</th>\n",
       "      <th>screen_time</th>\n",
       "      <th>situational_phobia</th>\n",
       "      <th>social_phobia</th>\n",
       "      <th>animal_based_phobia</th>\n",
       "      <th>medical_phobia</th>\n",
       "      <th>total_phobia</th>\n",
       "      <th>timestamp</th>\n",
       "    </tr>\n",
       "  </thead>\n",
       "  <tbody>\n",
       "    <tr>\n",
       "      <th>665</th>\n",
       "      <td>0504</td>\n",
       "      <td>301046447</td>\n",
       "      <td>1987-08-02</td>\n",
       "      <td>34.16</td>\n",
       "      <td>M</td>\n",
       "      <td>202109291319</td>\n",
       "      <td>Sport</td>\n",
       "      <td>Climbing</td>\n",
       "      <td>Professional</td>\n",
       "      <td>/mnt/62/Raw_Data/20210929_1319</td>\n",
       "      <td>...</td>\n",
       "      <td>NaN</td>\n",
       "      <td>NaN</td>\n",
       "      <td>4.0</td>\n",
       "      <td>1.0</td>\n",
       "      <td>NaN</td>\n",
       "      <td>NaN</td>\n",
       "      <td>NaN</td>\n",
       "      <td>NaN</td>\n",
       "      <td>NaN</td>\n",
       "      <td>2021-09-29 13:01:09</td>\n",
       "    </tr>\n",
       "    <tr>\n",
       "      <th>782</th>\n",
       "      <td>0504</td>\n",
       "      <td>301046447</td>\n",
       "      <td>1987-08-02</td>\n",
       "      <td>34.44</td>\n",
       "      <td>M</td>\n",
       "      <td>202201091544</td>\n",
       "      <td>Sport</td>\n",
       "      <td>Climbing</td>\n",
       "      <td>Professional</td>\n",
       "      <td>/mnt/62/Raw_Data/20220109_1544</td>\n",
       "      <td>...</td>\n",
       "      <td>NaN</td>\n",
       "      <td>NaN</td>\n",
       "      <td>4.0</td>\n",
       "      <td>1.0</td>\n",
       "      <td>NaN</td>\n",
       "      <td>NaN</td>\n",
       "      <td>NaN</td>\n",
       "      <td>NaN</td>\n",
       "      <td>NaN</td>\n",
       "      <td>2022-01-09 15:04:04</td>\n",
       "    </tr>\n",
       "  </tbody>\n",
       "</table>\n",
       "<p>2 rows × 91 columns</p>\n",
       "</div>"
      ],
      "text/plain": [
       "    subject_code  subject_id         dob  age_at_scan sex    session_id  \\\n",
       "665         0504   301046447  1987-08-02        34.16   M  202109291319   \n",
       "782         0504   301046447  1987-08-02        34.44   M  202201091544   \n",
       "\n",
       "     study     group     condition                            path  ...  \\\n",
       "665  Sport  Climbing  Professional  /mnt/62/Raw_Data/20210929_1319  ...   \n",
       "782  Sport  Climbing  Professional  /mnt/62/Raw_Data/20220109_1544  ...   \n",
       "\n",
       "     home_cooking_times_per_week  recreational_activity_times_per_week  \\\n",
       "665                          NaN                                   NaN   \n",
       "782                          NaN                                   NaN   \n",
       "\n",
       "     working_with_computer_times_per_week  screen_time situational_phobia  \\\n",
       "665                                   4.0          1.0                NaN   \n",
       "782                                   4.0          1.0                NaN   \n",
       "\n",
       "    social_phobia animal_based_phobia medical_phobia  total_phobia  \\\n",
       "665           NaN                 NaN            NaN           NaN   \n",
       "782           NaN                 NaN            NaN           NaN   \n",
       "\n",
       "              timestamp  \n",
       "665 2021-09-29 13:01:09  \n",
       "782 2022-01-09 15:04:04  \n",
       "\n",
       "[2 rows x 91 columns]"
      ]
     },
     "execution_count": 32,
     "metadata": {},
     "output_type": "execute_result"
    }
   ],
   "source": [
    "sessions[sessions[\"subject_code\"] == \"0504\"]"
   ]
  },
  {
   "cell_type": "code",
   "execution_count": 33,
   "id": "e7260cf6",
   "metadata": {},
   "outputs": [],
   "source": [
    "# df[df[\"condition\"] == \"Professional\"].sort_values(\"assessment_score\")\n",
    "df[\"is_prock\"] = df[\"assessment_gym\"].str.contains(\"פרפורמנס רוק תא\")\n",
    "df.loc[df[\"condition\"] == \"Learning\", \"is_prock\"] = True\n",
    "# df[\"assessment_gym\"].unique()"
   ]
  },
  {
   "cell_type": "code",
   "execution_count": 34,
   "id": "8f7d29d1",
   "metadata": {},
   "outputs": [],
   "source": [
    "# ── Global visualisation configuration ──────────────────────────────────────\n",
    "\n",
    "# 1.  General Matplotlib defaults\n",
    "# ── Global visualisation configuration ──────────────────────────────────────\n",
    "import matplotlib as mpl\n",
    "import seaborn as sns\n",
    "\n",
    "mpl.rcParams.update(\n",
    "    {\n",
    "        # ── Canvas size & resolution ───────────────────────────────────────────\n",
    "        # Default figure size: 12×8 inches  →  4800×3200 px when exported at 400 dpi\n",
    "        \"figure.figsize\": (12, 8),\n",
    "        \"figure.dpi\": 200,  # crisp in-notebook / retina preview\n",
    "        \"savefig.dpi\": 400,  # print-quality PNG/PDF\n",
    "        # ── Fonts ──────────────────────────────────────────────────────────────\n",
    "        \"font.family\": \"sans-serif\",\n",
    "        \"font.sans-serif\": [\"Roboto\", \"DejaVu Sans\", \"Arial\"],\n",
    "        \"axes.titlesize\": 24,\n",
    "        # \"axes.titleweight\": \"bold\",\n",
    "        \"axes.labelsize\": 24,\n",
    "        \"xtick.labelsize\": 14,\n",
    "        \"ytick.labelsize\": 14,\n",
    "        \"legend.fontsize\": 20,\n",
    "        # ── Axis & spine aesthetics ────────────────────────────────────────────\n",
    "        \"axes.spines.top\": False,\n",
    "        \"axes.spines.right\": False,\n",
    "        \"axes.spines.left\": True,\n",
    "        \"axes.spines.bottom\": True,\n",
    "        \"axes.linewidth\": 1,\n",
    "        \"axes.grid\": True,\n",
    "        \"grid.color\": \"#E6E6E6\",\n",
    "        \"grid.linewidth\": 0.4,\n",
    "        \"grid.alpha\": 0.8,\n",
    "        # ── Colour cycle (colour-blind-safe) ───────────────────────────────────\n",
    "        \"axes.prop_cycle\": mpl.cycler(color=sns.color_palette(\"Set2\")),\n",
    "        # ── Figure background ─────────────────────────────────────────────────\n",
    "        \"figure.facecolor\": \"white\",\n",
    "    }\n",
    ")\n",
    "\n",
    "# Seaborn theme inherits the rcParams above\n",
    "sns.set_theme(context=\"talk\", style=\"whitegrid\", palette=\"Set2\")\n",
    "\n",
    "\n",
    "# 2.  Seaborn theme (inherits Matplotlib rcParams)\n",
    "sns.set_theme(\n",
    "    context=\"talk\",  # slightly larger fonts for presentations / papers\n",
    "    style=\"whitegrid\",  # grid only on y-axis (good for histograms)\n",
    "    palette=\"Set2\",  # matches the rcParams colour cycle\n",
    ")\n",
    "\n",
    "\n",
    "# 3.  Helper function for consistent figure export\n",
    "def savefig_nice(fig, filename, *, tight=True, dpi=300, **savefig_kwargs):\n",
    "    \"\"\"Save figure with tight layout and correct DPI.\"\"\"\n",
    "    if tight:\n",
    "        fig.tight_layout()\n",
    "    fig.savefig(filename, dpi=dpi, bbox_inches=\"tight\", transparent=True, **savefig_kwargs)\n",
    "\n",
    "\n",
    "# 4.  Colour constants for this project (optional convenience)\n",
    "COL_RAW = \"#1f77b4\"  # e.g. unweighted sample\n",
    "COL_WEIGHTED = \"#d62728\"  # weighted sample\n",
    "COL_REF = \"0.35\"  # census reference (neutral grey)"
   ]
  },
  {
   "cell_type": "code",
   "execution_count": 35,
   "id": "94f191cf",
   "metadata": {},
   "outputs": [
    {
     "data": {
      "image/png": "[encoded data removed]",
      "text/plain": [
       "<Figure size 2000x1200 with 1 Axes>"
      ]
     },
     "metadata": {},
     "output_type": "display_data"
    }
   ],
   "source": [
    "import seaborn as sns\n",
    "import matplotlib.pyplot as plt\n",
    "\n",
    "# plt.style.use(\"seaborn-v0_8-whitegrid\")\n",
    "\n",
    "fig, ax = plt.subplots(figsize=(10, 6))\n",
    "sns.boxplot(\n",
    "    data=df[df[\"tag\"].str.contains(\"4\") == False],\n",
    "    x=\"tag\",\n",
    "    y=\"assessment_score\",\n",
    "    # hue=\"is_prock\",\n",
    ")\n",
    "plt.xticks(rotation=45)\n",
    "plt.title(\"Assessment Scores by Tag\")\n",
    "plt.xlabel(\"Tag\")\n",
    "plt.ylabel(\"Assessment Score\")\n",
    "plt.tight_layout()"
   ]
  },
  {
   "cell_type": "code",
   "execution_count": 71,
   "id": "024d49d3",
   "metadata": {},
   "outputs": [
    {
     "name": "stdout",
     "output_type": "stream",
     "text": [
      "            Mixed Linear Model Regression Results\n",
      "==============================================================\n",
      "Model:            MixedLM Dependent Variable: assessment_score\n",
      "No. Observations: 306     Method:             REML            \n",
      "No. Groups:       153     Scale:              8.0230          \n",
      "Min. group size:  2       Log-Likelihood:     -855.4517       \n",
      "Max. group size:  2       Converged:          Yes             \n",
      "Mean group size:  2.0                                         \n",
      "--------------------------------------------------------------\n",
      "                 Coef.  Std.Err.    z    P>|z|  [0.025  0.975]\n",
      "--------------------------------------------------------------\n",
      "Intercept        23.158    0.851  27.226 0.000  21.490  24.825\n",
      "post              0.683    0.744   0.918 0.359  -0.775   2.141\n",
      "learner         -17.573    0.898 -19.572 0.000 -19.333 -15.813\n",
      "post:learner      1.739    0.826   2.105 0.035   0.120   3.358\n",
      "age_c            -0.220    0.062  -3.548 0.000  -0.342  -0.099\n",
      "age_c2            0.007    0.006   1.247 0.212  -0.004   0.018\n",
      "Group Var        10.863    0.858                              \n",
      "==============================================================\n",
      "\n",
      "DiD effect (post×learner): beta=1.739, SE=0.826, z=2.10, p=0.0353\n"
     ]
    },
    {
     "name": "stderr",
     "output_type": "stream",
     "text": [
      "/tmp/ipykernel_2295017/325477266.py:39: FutureWarning: Downcasting behavior in `replace` is deprecated and will be removed in a future version. To retain the old behavior, explicitly call `result.infer_objects(copy=False)`. To opt-in to the future behavior, set `pd.set_option('future.no_silent_downcasting', True)`\n",
      "  d = d.replace([np.inf, -np.inf], np.nan).dropna(subset=model_cols).copy()\n"
     ]
    }
   ],
   "source": [
    "import numpy as np\n",
    "import pandas as pd\n",
    "from statsmodels.formula.api import mixedlm\n",
    "import statsmodels.formula.api as smf\n",
    "from numpy.linalg import LinAlgError\n",
    "\n",
    "# --------- CLEAN & PREP ---------\n",
    "d = df.copy()\n",
    "\n",
    "# 1) outcome must be numeric\n",
    "d[\"assessment_score\"] = pd.to_numeric(d[\"assessment_score\"], errors=\"coerce\")\n",
    "\n",
    "# 2) define time and group binaries\n",
    "#   If you have 'pre'/'post':\n",
    "if d[\"session_number\"].dtype == object:\n",
    "    d[\"post\"] = (d[\"session_number\"].astype(str).str.lower() == \"post\").astype(int)\n",
    "else:\n",
    "    # numeric sessions: treat the earliest as pre, the latest as post\n",
    "    # (if you already know 1=pre, 2=post, then simply: d[\"post\"] = (d[\"session_number\"] == 2).astype(int))\n",
    "    d = d.sort_values([\"subject_code\", \"session_number\"])\n",
    "    first = d.groupby(\"subject_code\")[\"session_number\"].transform(\"min\")\n",
    "    d[\"post\"] = (d[\"session_number\"] > first).astype(int)\n",
    "\n",
    "#   Group: Learner vs Control\n",
    "d[\"learner\"] = (d[\"condition\"].astype(str).str.lower().str.contains(\"learn\")).astype(int)\n",
    "\n",
    "# 3) keep only pre+post subjects and one row per timepoint\n",
    "have_both = d.groupby(\"subject_code\")[\"post\"].transform(lambda s: 0 in set(s) and 1 in set(s))\n",
    "d = d[have_both].copy()\n",
    "d = (d.sort_values([\"subject_code\", \"post\", \"age_at_scan\", \"session_number\"])\n",
    "       .drop_duplicates([\"subject_code\", \"post\"], keep=\"first\"))\n",
    "\n",
    "# 4) covariates\n",
    "d[\"age_c\"]  = d[\"age_at_scan\"] - d[\"age_at_scan\"].mean()\n",
    "d[\"age_c2\"] = d[\"age_c\"]**2\n",
    "\n",
    "# 5) drop any remaining NAs in model variables\n",
    "model_cols = [\"assessment_score\", \"post\", \"learner\", \"age_c\", \"age_c2\", \"subject_code\"]\n",
    "d = d.replace([np.inf, -np.inf], np.nan).dropna(subset=model_cols).copy()\n",
    "\n",
    "# 6) reset index and build contiguous group codes ALIGNED with d\n",
    "d = d.reset_index(drop=True)\n",
    "group_codes = d[\"subject_code\"].astype(\"category\").cat.codes  # 0..G-1\n",
    "\n",
    "# --------- FIT: MixedLM with random intercept ---------\n",
    "formula = \"assessment_score ~ post * learner + age_c + age_c2\"\n",
    "try:\n",
    "    m = mixedlm(formula, data=d, groups=group_codes).fit(reml=True, method=\"lbfgs\")\n",
    "except (LinAlgError, ValueError) as e:\n",
    "    # robust fallback (clustered SEs by subject)\n",
    "    ols = smf.ols(formula, data=d).fit()\n",
    "    m = ols.get_robustcov_results(cov_type=\"cluster\", groups=d[\"subject_code\"])\n",
    "print(m.summary())\n",
    "\n",
    "# The training (DiD) effect is the coefficient on post:learner\n",
    "# For MixedLM:\n",
    "term = \"post:learner\"\n",
    "if term in getattr(m, \"params\", {}):\n",
    "    est = m.params[term]\n",
    "    se  = np.sqrt(np.diag(m.cov_params()))[list(m.params.index).index(term)]\n",
    "    z   = est / se if se > 0 else np.nan\n",
    "    from math import erf, sqrt\n",
    "    p   = 2*(1 - 0.5*(1 + erf(abs(z)/sqrt(2)))) if np.isfinite(z) else np.nan\n",
    "    print(f\"DiD effect (post×learner): beta={est:.3f}, SE={se:.3f}, z={z:.2f}, p={p:.4f}\")\n"
   ]
  }
 ],
 "metadata": {
  "kernelspec": {
   "display_name": "venv",
   "language": "python",
   "name": "python3"
  },
  "language_info": {
   "codemirror_mode": {
    "name": "ipython",
    "version": 3
   },
   "file_extension": ".py",
   "mimetype": "text/x-python",
   "name": "python",
   "nbconvert_exporter": "python",
   "pygments_lexer": "ipython3",
   "version": "3.12.3"
  }
 },
 "nbformat": 4,
 "nbformat_minor": 5
}
