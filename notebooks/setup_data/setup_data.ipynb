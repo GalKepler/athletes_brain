{
 "cells": [
  {
   "cell_type": "code",
   "execution_count": 1,
   "metadata": {},
   "outputs": [],
   "source": [
    "\"\"\"\n",
    "Generate descriptive SNBB figures that match the slide template colours.\n",
    "--------------------------------------------------------------------------\n",
    "\n",
    "Prereqs:\n",
    "    pip install matplotlib pandas numpy seaborn\n",
    "    (seaborn only used for its convenient styling helper)\n",
    "\n",
    "Replace CSV_PATH if your file lives elsewhere.\n",
    "\"\"\"\n",
    "\n",
    "import pandas as pd\n",
    "import numpy as np\n",
    "import matplotlib.pyplot as plt\n",
    "import seaborn as sns\n",
    "from pathlib import Path\n",
    "from matplotlib import font_manager as fm"
   ]
  },
  {
   "cell_type": "code",
   "execution_count": null,
   "metadata": {},
   "outputs": [],
   "source": []
  },
  {
   "cell_type": "code",
   "execution_count": 2,
   "metadata": {},
   "outputs": [],
   "source": [
    "SOFTWARE = \"mrtrix3\"\n",
    "ATLAS = \"schaefer2018tian2020_400_7\"\n",
    "RECONSTRUCTION = \"SDStream\"\n",
    "SCALE = \"None\"\n",
    "WEIGHT = \"SIFT2\"\n",
    "\n",
    "\n",
    "DISTRIBUTION_METRIC = \"qfmean\"\n",
    "DIFFUSION_MEASURES = [\"adc\", \"fa\", \"rd\", \"ad\"]\n",
    "STRUCTURAL_MEASURES = [\"gm_vol\", \"wm_vol\", \"csf_vol\"]\n",
    "CONNECTOME_MEASURES = [\n",
    "    \"degree\",\n",
    "    \"eigenvector_centrality\",\n",
    "    \"betweenness_centrality\",\n",
    "    \"degree_norm\",\n",
    "    \"regional_efficiency\",\n",
    "]\n",
    "\n",
    "COLUMNS_TO_DROP = [\"path\", \"measure\", \"subject_id\"]"
   ]
  },
  {
   "cell_type": "code",
   "execution_count": 3,
   "metadata": {},
   "outputs": [],
   "source": [
    "EF_REPLACE_DICT = {\n",
    "    \"1-2\": 1.5,\n",
    "    \"3-4\": 3.5,\n",
    "    \"5+\": 6,\n",
    "    \"1-1\": 1.5,\n",
    "    \"12-31\": 2.5,\n",
    "    \"1-4\": 2.5,\n",
    "    \"פחות מפעם בשבוע\": 0.5,\n",
    "    \"יותר מ-3 פעמים בשבוע\": 4,\n",
    "    \"פעם בשבוע\": 1,\n",
    "}"
   ]
  },
  {
   "cell_type": "code",
   "execution_count": 4,
   "metadata": {},
   "outputs": [],
   "source": [
    "finished_subjects = (\n",
    "    pd.read_csv(f\"/media/storage/phd/papers/aging/{ATLAS}/subjects.csv\").values.flatten().tolist()\n",
    ")"
   ]
  },
  {
   "cell_type": "code",
   "execution_count": 5,
   "metadata": {},
   "outputs": [
    {
     "name": "stdout",
     "output_type": "stream",
     "text": [
      "Processing adc\n",
      "Processing fa\n",
      "Processing rd\n",
      "Processing ad\n",
      "Processing gm_vol\n",
      "Processing wm_vol\n",
      "Processing csf_vol\n"
     ]
    }
   ],
   "source": [
    "destination = Path(f\"/media/storage/phd/papers/aging/{ATLAS}\")\n",
    "\n",
    "# unique_measures = DIFFUSION_MEASURES + STRUCTURAL_MEASURES + CONNECTOME_MEASURES\n",
    "unique_measures = DIFFUSION_MEASURES + STRUCTURAL_MEASURES\n",
    "\n",
    "\n",
    "results = {m: {} for m in unique_measures}\n",
    "\n",
    "for m in unique_measures:\n",
    "    print(f\"Processing {m}\")\n",
    "    # m = \"degree\"\n",
    "    try:\n",
    "        if m not in CONNECTOME_MEASURES:\n",
    "            m_data = pd.read_pickle(destination / f\"{m}.pkl\").reset_index(drop=True)\n",
    "        else:\n",
    "            m_data = pd.read_pickle(\n",
    "                destination / f\"connectome_{RECONSTRUCTION}_{SCALE}_{WEIGHT}.pkl\"\n",
    "            ).reset_index(drop=True)\n",
    "            m_data[\"measure\"] = m\n",
    "    except FileNotFoundError:\n",
    "        raise FileNotFoundError(f\"Could not find {m}.pkl. Skipping...\")\n",
    "    # data = m_data.drop_duplicates(\n",
    "    #     subset=[\"subject_code\", \"index\"], keep=\"last\"\n",
    "    # )\n",
    "    data = m_data[m_data[\"age_at_scan\"] > 18]\n",
    "    data = data[data[\"subject_code\"].isin(finished_subjects)]\n",
    "    data = data.drop(columns=COLUMNS_TO_DROP)\n",
    "    data[\"exercise_frequency\"] = data[\"exercise_frequency\"].replace(EF_REPLACE_DICT).astype(float)\n",
    "    data.to_csv(f\"/home/galkepler/Projects/athletes_brain/data/interim/{m}.csv\")\n",
    "    # df = collect_data(m_data, m)\n",
    "    # break"
   ]
  }
 ],
 "metadata": {
  "kernelspec": {
   "display_name": "venv",
   "language": "python",
   "name": "python3"
  },
  "language_info": {
   "codemirror_mode": {
    "name": "ipython",
    "version": 3
   },
   "file_extension": ".py",
   "mimetype": "text/x-python",
   "name": "python",
   "nbconvert_exporter": "python",
   "pygments_lexer": "ipython3",
   "version": "3.12.3"
  }
 },
 "nbformat": 4,
 "nbformat_minor": 2
}
