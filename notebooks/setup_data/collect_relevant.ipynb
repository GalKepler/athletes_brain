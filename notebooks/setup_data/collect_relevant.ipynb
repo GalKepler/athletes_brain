{
 "cells": [
  {
   "cell_type": "code",
   "execution_count": 1,
   "id": "5c5318e3",
   "metadata": {},
   "outputs": [],
   "source": [
    "\"\"\"\n",
    "Generate descriptive SNBB figures that match the slide template colours.\n",
    "--------------------------------------------------------------------------\n",
    "\n",
    "Prereqs:\n",
    "    pip install matplotlib pandas numpy seaborn\n",
    "    (seaborn only used for its convenient styling helper)\n",
    "\n",
    "Replace CSV_PATH if your file lives elsewhere.\n",
    "\"\"\"\n",
    "\n",
    "import pandas as pd\n",
    "import numpy as np\n",
    "import matplotlib.pyplot as plt\n",
    "import seaborn as sns\n",
    "from pathlib import Path\n",
    "from matplotlib import font_manager as fm"
   ]
  },
  {
   "cell_type": "code",
   "execution_count": 2,
   "id": "d02fb718",
   "metadata": {},
   "outputs": [],
   "source": [
    "SOFTWARE = \"mrtrix3\"\n",
    "ATLAS = \"schaefer2018tian2020_400_7\"\n",
    "RECONSTRUCTION = \"SDStream\"\n",
    "SCALE = \"None\"\n",
    "WEIGHT = \"SIFT2\"\n",
    "\n",
    "\n",
    "DISTRIBUTION_METRIC = \"qfmean\"\n",
    "DIFFUSION_MEASURES = [\"adc\", \"fa\", \"rd\", \"ad\"]\n",
    "STRUCTURAL_MEASURES = [\"gm_vol\", \"wm_vol\", \"csf_vol\"]\n",
    "CONNECTOME_MEASURES = [\n",
    "    \"degree\",\n",
    "    \"eigenvector_centrality\",\n",
    "    \"betweenness_centrality\",\n",
    "    \"degree_norm\",\n",
    "    \"regional_efficiency\",\n",
    "]"
   ]
  },
  {
   "cell_type": "code",
   "execution_count": 3,
   "id": "96e27991",
   "metadata": {},
   "outputs": [],
   "source": [
    "sessions = pd.read_csv(\"~/Projects/plasticityhub/sessions.csv\")\n",
    "sessions[\"subject_code\"] = (\n",
    "    sessions[\"subject_code\"]\n",
    "    .astype(str)\n",
    "    .str.replace(\"-\", \"\")\n",
    "    .str.replace(\" \", \"\")\n",
    "    .str.replace(\"_\", \"\")\n",
    "    .str.zfill(4)\n",
    ")\n",
    "sessions.loc[sessions[\"filled\"], \"weekly_workouts\"] = sessions.loc[sessions[\"filled\"], \"weekly_workouts\"].fillna(0)\n",
    "\n",
    "# sessions.loc[sessions[\"filled\"], \"weekly_workouts\"].fillna(0, inplace=True)\n",
    "# sessions[\"weekly_workouts\"] = sessions[\"weekly_workouts\"].fillna(0)\n",
    "sessions[\"weekly_workouts\"] = sessions[\"weekly_workouts\"].replace({\"10 שעות ויותר\": 10})\n",
    "sessions.loc[sessions[\"weekly_workouts\"].notna(), \"weekly_workouts\"] = sessions.loc[\n",
    "    sessions[\"weekly_workouts\"].notna(), \"weekly_workouts\"\n",
    "].astype(int)\n",
    "sessions.loc[~sessions[\"filled\"], \"weekly_workouts\"] = np.nan"
   ]
  },
  {
   "cell_type": "code",
   "execution_count": 4,
   "id": "a5a2c01e",
   "metadata": {},
   "outputs": [
    {
     "data": {
      "application/vnd.microsoft.datawrangler.viewer.v0+json": {
       "columns": [
        {
         "name": "index",
         "rawType": "float64",
         "type": "float"
        },
        {
         "name": "weekly_workouts",
         "rawType": "object",
         "type": "unknown"
        }
       ],
       "ref": "1ba496f7-2df1-4f78-9d60-7b6051cb3480",
       "rows": [
        [
         "0.25",
         "0.0"
        ],
        [
         "0.5",
         "0.0"
        ],
        [
         "0.75",
         "2.0"
        ],
        [
         "0.9",
         "4.0"
        ],
        [
         "0.95",
         "5.0"
        ],
        [
         "0.99",
         "7.0"
        ],
        [
         "1.0",
         "14.0"
        ]
       ],
       "shape": {
        "columns": 1,
        "rows": 7
       }
      },
      "text/plain": [
       "0.25     0.0\n",
       "0.50     0.0\n",
       "0.75     2.0\n",
       "0.90     4.0\n",
       "0.95     5.0\n",
       "0.99     7.0\n",
       "1.00    14.0\n",
       "Name: weekly_workouts, dtype: object"
      ]
     },
     "execution_count": 4,
     "metadata": {},
     "output_type": "execute_result"
    }
   ],
   "source": [
    "sessions[\"weekly_workouts\"].quantile([0.25, 0.5, 0.75, 0.9, 0.95, 0.99, 1.0])"
   ]
  },
  {
   "cell_type": "code",
   "execution_count": 5,
   "id": "8febce75",
   "metadata": {},
   "outputs": [
    {
     "name": "stdout",
     "output_type": "stream",
     "text": [
      "Target subject (N): 148\n",
      "Valid learners (N): 113\n",
      "Subjects to drop (N): 1322\n"
     ]
    }
   ],
   "source": [
    "MAX_NUMBER_OF_WORKOUTS = 0\n",
    "\n",
    "# write a query to detect atheletes (study == \"sport\", condition != \"learning\")\n",
    "ATHLETES_QUERY = \"(condition in ['Professional', 'Control']) & (group in ['Climbing', 'Bjj'])\"\n",
    "LEARNERS_QUERY = \"(condition in ['Learning']) & (group in ['Climbing', 'Bjj'])\"\n",
    "\n",
    "target_subjects = sessions.query(ATHLETES_QUERY)[\"subject_code\"].unique()\n",
    "learner_subjects = sessions.query(LEARNERS_QUERY)[\"subject_code\"].unique()\n",
    "\n",
    "# locate subjects that have more than MAX_NUMBER_OF_WORKOUTS\n",
    "subjects_to_drop = sessions[\n",
    "    (~sessions[\"subject_code\"].isin(target_subjects))\n",
    "    & (~sessions[\"subject_code\"].isin(learner_subjects))\n",
    "    & ((sessions[\"weekly_workouts\"] > MAX_NUMBER_OF_WORKOUTS) | (sessions[\"weekly_workouts\"].isna()))\n",
    "][\"subject_code\"].unique()\n",
    "valid_learners = sessions[\n",
    "    (sessions[\"subject_code\"].isin(learner_subjects))\n",
    "    & (sessions[\"weekly_workouts\"] <= MAX_NUMBER_OF_WORKOUTS)\n",
    "][\"subject_code\"].unique()\n",
    "\n",
    "print(f\"Target subject (N): {len(target_subjects)}\")\n",
    "print(f\"Valid learners (N): {len(valid_learners)}\")\n",
    "print(f\"Subjects to drop (N): {len(subjects_to_drop)}\")"
   ]
  },
  {
   "cell_type": "code",
   "execution_count": 6,
   "id": "107e74e7",
   "metadata": {},
   "outputs": [],
   "source": [
    "# sessions[~sessions[\"subject_code\"].isin(target_subjects) & (sessions[\"subject_code\"].isin(learner_subjects)) & (sessions[\"weekly_workouts\"] > MAX_NUMBER_OF_WORKOUTS)].shape\n",
    "# len(subjects_to_drop)"
   ]
  },
  {
   "cell_type": "code",
   "execution_count": 7,
   "id": "c48549a4",
   "metadata": {},
   "outputs": [
    {
     "name": "stdout",
     "output_type": "stream",
     "text": [
      "Processing adc\n"
     ]
    },
    {
     "name": "stderr",
     "output_type": "stream",
     "text": [
      "/tmp/ipykernel_4189425/3832128871.py:13: DtypeWarning: Columns (16,23,24,25,26,27,33,39,43,44,45,46,47,49,50,51,52,57,58,59,60,61,62,64,78,80,81,86,87,88,89,96,97,98,108) have mixed types. Specify dtype option on import or set low_memory=False.\n",
      "  data = pd.read_csv(source / f\"{m}.csv\", index_col=0)\n"
     ]
    },
    {
     "name": "stdout",
     "output_type": "stream",
     "text": [
      "Found 2709 subjects with adc data\n",
      "Processing fa\n"
     ]
    },
    {
     "name": "stderr",
     "output_type": "stream",
     "text": [
      "/tmp/ipykernel_4189425/3832128871.py:13: DtypeWarning: Columns (16,23,24,25,26,27,33,39,43,44,45,46,47,49,50,51,52,57,58,59,60,61,62,64,78,80,81,86,87,88,89,96,97,98,108) have mixed types. Specify dtype option on import or set low_memory=False.\n",
      "  data = pd.read_csv(source / f\"{m}.csv\", index_col=0)\n"
     ]
    },
    {
     "name": "stdout",
     "output_type": "stream",
     "text": [
      "Found 2709 subjects with fa data\n",
      "Processing rd\n"
     ]
    },
    {
     "name": "stderr",
     "output_type": "stream",
     "text": [
      "/tmp/ipykernel_4189425/3832128871.py:13: DtypeWarning: Columns (16,23,24,25,26,27,33,39,43,44,45,46,47,49,50,51,52,57,58,59,60,61,62,64,78,80,81,86,87,88,89,96,97,98,108) have mixed types. Specify dtype option on import or set low_memory=False.\n",
      "  data = pd.read_csv(source / f\"{m}.csv\", index_col=0)\n"
     ]
    },
    {
     "name": "stdout",
     "output_type": "stream",
     "text": [
      "Found 2709 subjects with rd data\n",
      "Processing ad\n"
     ]
    },
    {
     "name": "stderr",
     "output_type": "stream",
     "text": [
      "/tmp/ipykernel_4189425/3832128871.py:13: DtypeWarning: Columns (16,23,24,25,26,27,33,39,43,44,45,46,47,49,50,51,52,57,58,59,60,61,62,64,78,80,81,86,87,88,89,96,97,98,108) have mixed types. Specify dtype option on import or set low_memory=False.\n",
      "  data = pd.read_csv(source / f\"{m}.csv\", index_col=0)\n"
     ]
    },
    {
     "name": "stdout",
     "output_type": "stream",
     "text": [
      "Found 2709 subjects with ad data\n",
      "Processing gm_vol\n"
     ]
    },
    {
     "name": "stderr",
     "output_type": "stream",
     "text": [
      "/tmp/ipykernel_4189425/3832128871.py:13: DtypeWarning: Columns (1,6,7,8,9,10,11,12,68,74,78,79,80,81,82,84,85,86,87,92,93,94,95,96,97,99,113,115,116,121,122,123,124,125,132,133,134) have mixed types. Specify dtype option on import or set low_memory=False.\n",
      "  data = pd.read_csv(source / f\"{m}.csv\", index_col=0)\n"
     ]
    },
    {
     "name": "stdout",
     "output_type": "stream",
     "text": [
      "Found 2710 subjects with gm_vol data\n",
      "Processing wm_vol\n"
     ]
    },
    {
     "name": "stderr",
     "output_type": "stream",
     "text": [
      "/tmp/ipykernel_4189425/3832128871.py:13: DtypeWarning: Columns (1,6,7,8,9,10,11,12,68,74,78,79,80,81,82,84,85,86,87,92,93,94,95,96,97,99,113,115,116,121,122,123,124,125,132,133,134) have mixed types. Specify dtype option on import or set low_memory=False.\n",
      "  data = pd.read_csv(source / f\"{m}.csv\", index_col=0)\n"
     ]
    },
    {
     "name": "stdout",
     "output_type": "stream",
     "text": [
      "Found 2710 subjects with wm_vol data\n",
      "Processing csf_vol\n"
     ]
    },
    {
     "name": "stderr",
     "output_type": "stream",
     "text": [
      "/tmp/ipykernel_4189425/3832128871.py:13: DtypeWarning: Columns (1,6,7,8,9,10,11,12,68,74,78,79,80,81,82,84,85,86,87,92,93,94,95,96,97,99,113,115,116,121,122,123,124,125,132,133,134) have mixed types. Specify dtype option on import or set low_memory=False.\n",
      "  data = pd.read_csv(source / f\"{m}.csv\", index_col=0)\n"
     ]
    },
    {
     "name": "stdout",
     "output_type": "stream",
     "text": [
      "Found 2710 subjects with csf_vol data\n"
     ]
    }
   ],
   "source": [
    "source = Path(\"/media/storage/phd//athletes_brain/data/interim\")\n",
    "destination = Path(\"/media/storage/phd//athletes_brain/data/processed\")\n",
    "\n",
    "# unique_measures = DIFFUSION_MEASURES + STRUCTURAL_MEASURES + CONNECTOME_MEASURES\n",
    "unique_measures = DIFFUSION_MEASURES + STRUCTURAL_MEASURES\n",
    "\n",
    "\n",
    "results = {m: {} for m in unique_measures}\n",
    "\n",
    "for m in unique_measures:\n",
    "    print(f\"Processing {m}\")\n",
    "\n",
    "    data = pd.read_csv(source / f\"{m}.csv\", index_col=0)\n",
    "    data[\"subject_code\"] = (\n",
    "        data[\"subject_code\"]\n",
    "        .astype(str)\n",
    "        .str.replace(\"-\", \"\")\n",
    "        .str.replace(\" \", \"\")\n",
    "        .str.replace(\"_\", \"\")\n",
    "        .str.zfill(4)\n",
    "    )\n",
    "    # data = data.drop_duplicates(subset=[\"subject_code\", \"index\"], keep=\"last\")\n",
    "    # tag athletes\n",
    "    data[\"target\"] = data[\"subject_code\"].isin(target_subjects)\n",
    "    data[\"learner\"] = data[\"subject_code\"].isin(learner_subjects)\n",
    "    data[\"cs_valid\"] = True\n",
    "    data.loc[\n",
    "        (data[\"learner\"]) & (~data[\"target\"]) & (~data[\"subject_code\"].isin(valid_learners)),\n",
    "        \"cs_valid\",\n",
    "    ] = False\n",
    "    # break\n",
    "    # drop learners that have more than one session\n",
    "    # learners = data[data[\"condition\"].isin([\"Learning\", \"Novice Control\"]) & (data[\"study\"] == \"Sport\")]\n",
    "    # learners = learners[learners.duplicated(subset=[\"subject_code\"], keep=False)]\n",
    "    # data = data.drop(learners.index)\n",
    "    # data = data.drop(\n",
    "    #     data[\n",
    "    #         (data[\"condition\"].isin([\"Learning\", \"Novice Control\"])) & (data[\"study\"] == \"Sport\")\n",
    "    #     ].index\n",
    "    # )\n",
    "    # data = data.drop(data[(data[\"target\"]) & (~data[\"group\"].isin([\"Climbing\",\"Bjj\"]))].index)\n",
    "    # data = data.drop(\n",
    "    #     data[(data[\"exercise_frequency\"] > MAX_NUMBER_OF_WORKOUTS) & (~data[\"target\"])].index\n",
    "    # )\n",
    "    # drop \"subjects_to_drop\"\n",
    "    # data = data[~data[\"subject_code\"].isin(subjects_to_drop)]\n",
    "    data.loc[data[\"subject_code\"].isin(subjects_to_drop), \"cs_valid\"] = False\n",
    "    # data[data[\"exercise_frequency\"] < MAX_NUMBER_OF_WORKOUTS, \"target\"] = False\n",
    "    data.to_csv(destination / f\"{m}.csv\")\n",
    "    print(f\"Found {data['subject_code'].nunique()} subjects with {m} data\")"
   ]
  },
  {
   "cell_type": "code",
   "execution_count": null,
   "id": "56a4ab0d",
   "metadata": {},
   "outputs": [
    {
     "data": {
      "application/vnd.microsoft.datawrangler.viewer.v0+json": {
       "columns": [
        {
         "name": "target",
         "rawType": "bool",
         "type": "boolean"
        },
        {
         "name": "proportion",
         "rawType": "float64",
         "type": "float"
        }
       ],
       "ref": "a037c5ea-c1fb-48ff-ab17-8ad678f40fe0",
       "rows": [
        [
         "False",
         "0.9482501861504096"
        ],
        [
         "True",
         "0.051749813849590466"
        ]
       ],
       "shape": {
        "columns": 1,
        "rows": 2
       }
      },
      "text/plain": [
       "target\n",
       "False    0.94825\n",
       "True     0.05175\n",
       "Name: proportion, dtype: float64"
      ]
     },
     "execution_count": 8,
     "metadata": {},
     "output_type": "execute_result"
    }
   ],
   "source": [
    "# data[\"target\"] = data[\"subject_code\"].isin(target_subjects)\n",
    "# data[\"learner\"] = data[\"subject_code\"].isin(learner_subjects)\n",
    "# data[\"valid\"] = True\n",
    "# data.loc[data[\"learner\"] & (~data[\"subject_code\"].isin(valid_learners)), \"valid\"] = False\n",
    "data.drop_duplicates(subset=[\"subject_code\", \"index\"], keep=\"last\")[\"target\"].value_counts(normalize=True)\n",
    "# data[\"index\"].unique()"
   ]
  },
  {
   "cell_type": "code",
   "execution_count": null,
   "id": "bdc82a22",
   "metadata": {},
   "outputs": [
    {
     "data": {
      "application/vnd.microsoft.datawrangler.viewer.v0+json": {
       "columns": [
        {
         "name": "target",
         "rawType": "bool",
         "type": "boolean"
        },
        {
         "name": "proportion",
         "rawType": "float64",
         "type": "float"
        }
       ],
       "ref": "cbc89d9c-f952-4627-afe3-49db046c3765",
       "rows": [
        [
         "False",
         "0.9103225806451613"
        ],
        [
         "True",
         "0.08967741935483871"
        ]
       ],
       "shape": {
        "columns": 1,
        "rows": 2
       }
      },
      "text/plain": [
       "target\n",
       "False    0.910323\n",
       "True     0.089677\n",
       "Name: proportion, dtype: float64"
      ]
     },
     "execution_count": 11,
     "metadata": {},
     "output_type": "execute_result"
    }
   ],
   "source": [
    "# data[\"target\"] = data[\"subject_code\"].isin(target_subjects)\n",
    "# data[\"learner\"] = data[\"subject_code\"].isin(learner_subjects)\n",
    "# data[\"valid\"] = True\n",
    "# data.loc[data[\"learner\"] & (~data[\"subject_code\"].isin(valid_learners)), \"valid\"] = False\n",
    "data[data[\"cs_valid\"]].drop_duplicates(subset=[\"subject_code\", \"index\"], keep=\"last\")[\"target\"].value_counts(normalize=True)\n",
    "# data[\"index\"].unique()"
   ]
  },
  {
   "cell_type": "code",
   "execution_count": null,
   "id": "5284f781",
   "metadata": {},
   "outputs": [],
   "source": [
    "d = data.drop_duplicates(subset=[\"session_id\"], keep=\"first\")"
   ]
  },
  {
   "cell_type": "code",
   "execution_count": null,
   "id": "e2a6b388",
   "metadata": {},
   "outputs": [
    {
     "data": {
      "application/vnd.microsoft.datawrangler.viewer.v0+json": {
       "columns": [
        {
         "name": "cs_valid",
         "rawType": "bool",
         "type": "boolean"
        },
        {
         "name": "count",
         "rawType": "int64",
         "type": "integer"
        }
       ],
       "ref": "64d0934f-d98f-4c44-bec2-187809328438",
       "rows": [
        [
         "True",
         "1548"
        ],
        [
         "False",
         "1135"
        ]
       ],
       "shape": {
        "columns": 1,
        "rows": 2
       }
      },
      "text/plain": [
       "cs_valid\n",
       "True     1548\n",
       "False    1135\n",
       "Name: count, dtype: int64"
      ]
     },
     "execution_count": 10,
     "metadata": {},
     "output_type": "execute_result"
    }
   ],
   "source": [
    "# d[d[\"learner\"]].drop_duplicates(subset=\"subject_code\")[\"valid\"].value_counts()\n",
    "d.drop_duplicates(subset=\"subject_code\")[\"cs_valid\"].value_counts()"
   ]
  }
 ],
 "metadata": {
  "kernelspec": {
   "display_name": "venv",
   "language": "python",
   "name": "python3"
  },
  "language_info": {
   "codemirror_mode": {
    "name": "ipython",
    "version": 3
   },
   "file_extension": ".py",
   "mimetype": "text/x-python",
   "name": "python",
   "nbconvert_exporter": "python",
   "pygments_lexer": "ipython3",
   "version": "3.12.3"
  }
 },
 "nbformat": 4,
 "nbformat_minor": 5
}
