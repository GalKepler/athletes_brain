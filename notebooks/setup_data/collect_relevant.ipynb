{
 "cells": [
  {
   "cell_type": "code",
   "execution_count": 1,
   "id": "5c5318e3",
   "metadata": {},
   "outputs": [],
   "source": [
    "\"\"\"\n",
    "Generate descriptive SNBB figures that match the slide template colours.\n",
    "--------------------------------------------------------------------------\n",
    "\n",
    "Prereqs:\n",
    "    pip install matplotlib pandas numpy seaborn\n",
    "    (seaborn only used for its convenient styling helper)\n",
    "\n",
    "Replace CSV_PATH if your file lives elsewhere.\n",
    "\"\"\"\n",
    "\n",
    "import pandas as pd\n",
    "import numpy as np\n",
    "import matplotlib.pyplot as plt\n",
    "import seaborn as sns\n",
    "from pathlib import Path\n",
    "from matplotlib import font_manager as fm"
   ]
  },
  {
   "cell_type": "code",
   "execution_count": 2,
   "id": "d02fb718",
   "metadata": {},
   "outputs": [],
   "source": [
    "SOFTWARE = \"mrtrix3\"\n",
    "ATLAS = \"schaefer2018tian2020_400_7\"\n",
    "RECONSTRUCTION = \"SDStream\"\n",
    "SCALE = \"None\"\n",
    "WEIGHT = \"SIFT2\"\n",
    "\n",
    "\n",
    "DISTRIBUTION_METRIC = \"qfmean\"\n",
    "DIFFUSION_MEASURES = [\"adc\", \"fa\", \"rd\", \"ad\"]\n",
    "STRUCTURAL_MEASURES = [\"gm_vol\", \"wm_vol\", \"csf_vol\"]\n",
    "CONNECTOME_MEASURES = [\n",
    "    \"degree\",\n",
    "    \"eigenvector_centrality\",\n",
    "    \"betweenness_centrality\",\n",
    "    \"degree_norm\",\n",
    "    \"regional_efficiency\",\n",
    "]"
   ]
  },
  {
   "cell_type": "code",
   "execution_count": 3,
   "id": "c48549a4",
   "metadata": {},
   "outputs": [
    {
     "name": "stdout",
     "output_type": "stream",
     "text": [
      "Processing adc\n"
     ]
    },
    {
     "name": "stderr",
     "output_type": "stream",
     "text": [
      "/tmp/ipykernel_1883846/3519091440.py:17: DtypeWarning: Columns (16,23,24,25,26,27,33) have mixed types. Specify dtype option on import or set low_memory=False.\n",
      "  data = pd.read_csv(source / f\"{m}.csv\", index_col=0)\n"
     ]
    },
    {
     "name": "stdout",
     "output_type": "stream",
     "text": [
      "Processing fa\n"
     ]
    },
    {
     "name": "stderr",
     "output_type": "stream",
     "text": [
      "/tmp/ipykernel_1883846/3519091440.py:17: DtypeWarning: Columns (16,23,24,25,26,27,33) have mixed types. Specify dtype option on import or set low_memory=False.\n",
      "  data = pd.read_csv(source / f\"{m}.csv\", index_col=0)\n"
     ]
    },
    {
     "name": "stdout",
     "output_type": "stream",
     "text": [
      "Processing rd\n"
     ]
    },
    {
     "name": "stderr",
     "output_type": "stream",
     "text": [
      "/tmp/ipykernel_1883846/3519091440.py:17: DtypeWarning: Columns (16,23,24,25,26,27,33) have mixed types. Specify dtype option on import or set low_memory=False.\n",
      "  data = pd.read_csv(source / f\"{m}.csv\", index_col=0)\n"
     ]
    },
    {
     "name": "stdout",
     "output_type": "stream",
     "text": [
      "Processing ad\n"
     ]
    },
    {
     "name": "stderr",
     "output_type": "stream",
     "text": [
      "/tmp/ipykernel_1883846/3519091440.py:17: DtypeWarning: Columns (16,23,24,25,26,27,33) have mixed types. Specify dtype option on import or set low_memory=False.\n",
      "  data = pd.read_csv(source / f\"{m}.csv\", index_col=0)\n"
     ]
    },
    {
     "name": "stdout",
     "output_type": "stream",
     "text": [
      "Processing gm_vol\n"
     ]
    },
    {
     "name": "stderr",
     "output_type": "stream",
     "text": [
      "/tmp/ipykernel_1883846/3519091440.py:17: DtypeWarning: Columns (1,8,9,10,11,12,68) have mixed types. Specify dtype option on import or set low_memory=False.\n",
      "  data = pd.read_csv(source / f\"{m}.csv\", index_col=0)\n"
     ]
    },
    {
     "name": "stdout",
     "output_type": "stream",
     "text": [
      "Processing wm_vol\n"
     ]
    },
    {
     "name": "stderr",
     "output_type": "stream",
     "text": [
      "/tmp/ipykernel_1883846/3519091440.py:17: DtypeWarning: Columns (1,8,9,10,11,12,68) have mixed types. Specify dtype option on import or set low_memory=False.\n",
      "  data = pd.read_csv(source / f\"{m}.csv\", index_col=0)\n"
     ]
    },
    {
     "name": "stdout",
     "output_type": "stream",
     "text": [
      "Processing csf_vol\n"
     ]
    },
    {
     "name": "stderr",
     "output_type": "stream",
     "text": [
      "/tmp/ipykernel_1883846/3519091440.py:17: DtypeWarning: Columns (1,8,9,10,11,12,68) have mixed types. Specify dtype option on import or set low_memory=False.\n",
      "  data = pd.read_csv(source / f\"{m}.csv\", index_col=0)\n"
     ]
    }
   ],
   "source": [
    "source = Path(\"/home/galkepler/Projects/athletes_brain/data/interim\")\n",
    "destination = Path(\"/home/galkepler/Projects/athletes_brain/data/processed\")\n",
    "\n",
    "# unique_measures = DIFFUSION_MEASURES + STRUCTURAL_MEASURES + CONNECTOME_MEASURES\n",
    "unique_measures = DIFFUSION_MEASURES + STRUCTURAL_MEASURES\n",
    "\n",
    "MAX_NUMBER_OF_WORKOUTS = 1\n",
    "\n",
    "# write a query to detect atheletes (study == \"sport\", condition != \"learning\")\n",
    "ATHLETES_QUERY = \"(study == 'Sport') & (condition != 'Learning')\"\n",
    "\n",
    "results = {m: {} for m in unique_measures}\n",
    "\n",
    "for m in unique_measures:\n",
    "    print(f\"Processing {m}\")\n",
    "\n",
    "    data = pd.read_csv(source / f\"{m}.csv\", index_col=0)\n",
    "    # tag athletes\n",
    "    data[\"target\"] = data.eval(ATHLETES_QUERY)\n",
    "    data = data.drop(\n",
    "        data[(data[\"exercise_frequency\"] > MAX_NUMBER_OF_WORKOUTS) & (~data[\"target\"])].index\n",
    "    )\n",
    "    # data[data[\"exercise_frequency\"] < MAX_NUMBER_OF_WORKOUTS, \"target\"] = False\n",
    "    data.to_csv(destination / f\"{m}.csv\")\n",
    "    # break\n",
    "    # df = collect_data(m_data, m)\n",
    "    # break"
   ]
  },
  {
   "cell_type": "code",
   "execution_count": null,
   "id": "b7bf97ee",
   "metadata": {},
   "outputs": [],
   "source": []
  }
 ],
 "metadata": {
  "kernelspec": {
   "display_name": "venv",
   "language": "python",
   "name": "python3"
  },
  "language_info": {
   "codemirror_mode": {
    "name": "ipython",
    "version": 3
   },
   "file_extension": ".py",
   "mimetype": "text/x-python",
   "name": "python",
   "nbconvert_exporter": "python",
   "pygments_lexer": "ipython3",
   "version": "3.12.3"
  }
 },
 "nbformat": 4,
 "nbformat_minor": 5
}
